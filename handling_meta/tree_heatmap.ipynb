{
 "cells": [
  {
   "cell_type": "code",
   "execution_count": 93,
   "metadata": {},
   "outputs": [],
   "source": [
    "import ete3\n",
    "import pandas as pd\n",
    "import numpy as np\n",
    "import os"
   ]
  },
  {
   "cell_type": "code",
   "execution_count": 94,
   "metadata": {},
   "outputs": [],
   "source": [
    "# import necessary data to get from our \"species\" key to names in ncbi's newick"
   ]
  },
  {
   "cell_type": "code",
   "execution_count": 95,
   "metadata": {},
   "outputs": [],
   "source": [
    "taxids = pd.read_csv('allspecies.taxid', delimiter='\\t', header=None)"
   ]
  },
  {
   "cell_type": "code",
   "execution_count": 96,
   "metadata": {},
   "outputs": [],
   "source": [
    "name2species = pd.read_csv('name2species.csv', header=None)"
   ]
  },
  {
   "cell_type": "code",
   "execution_count": 97,
   "metadata": {},
   "outputs": [],
   "source": [
    "merged = taxids.merge(name2species, left_on=0, right_on=1)"
   ]
  },
  {
   "cell_type": "code",
   "execution_count": 98,
   "metadata": {},
   "outputs": [],
   "source": [
    "# and import metadata\n",
    "metadata = pd.read_csv('metaall.csv')"
   ]
  },
  {
   "cell_type": "code",
   "execution_count": 99,
   "metadata": {},
   "outputs": [],
   "source": [
    "merged = merged.merge(metadata, left_on='0_y', right_on='species')"
   ]
  },
  {
   "cell_type": "code",
   "execution_count": 100,
   "metadata": {},
   "outputs": [],
   "source": [
    "# add naming that matched that produced by NCBI\n",
    "merged.loc[:, '#Names'] = merged.loc[:,['key_0','1_x']].apply(lambda x: ' - '.join([str(w) for w in x]), axis=1)\n",
    "# metadata feature engineering for quality proxies\n",
    "# higher numbers indicate better quality genomes (hopefully)\n",
    "# normalized N50\n",
    "merged.loc[:, \"N50_frac\"] = merged.loc[:,'N50'] / merged.loc[:,'total_len']\n",
    "# not n\n",
    "merged.loc[:, \"not_N\"] = 1 -  merged.loc[:,'N']\n",
    "# not loosing buscos in proteome compared to genome\n",
    "merged.loc[:, \"busco_retention\"] = merged.loc[:,'busco_C_prot'] -  merged.loc[:,'busco_C_geno']\n",
    "# alternative splicing called\n",
    "merged.loc[:, \"busco_altsplice\"] = merged.loc[:,'busco_D_prot'] -  merged.loc[:,'busco_D_geno']\n",
    "# UTRs explicity labelled\n",
    "merged.loc[:, \"UTRs_explicit\"] = (merged.loc[:,'five_prime_UTR'] + merged.loc[:,'three_prime_UTR']) / merged.loc[:,'mRNA'] / 2\n",
    "\n",
    "# finally training or not\n",
    "merged.loc[:, \"is_test\"] = merged.loc[:, 'species'].apply(lambda x: int(x in os.listdir('test')))"
   ]
  },
  {
   "cell_type": "code",
   "execution_count": 101,
   "metadata": {},
   "outputs": [],
   "source": [
    "to_scale = [\"N50_frac\", \"not_N\", \"busco_retention\", \"busco_altsplice\", \"UTRs_explicit\"]"
   ]
  },
  {
   "cell_type": "code",
   "execution_count": 102,
   "metadata": {},
   "outputs": [],
   "source": [
    "# scale engineered proxies\n",
    "x = merged.loc[:, to_scale]\n",
    "x = (x - x.mean()) / x.std()  # z-score\n",
    "merged.loc[:, to_scale] = x"
   ]
  },
  {
   "cell_type": "code",
   "execution_count": 103,
   "metadata": {},
   "outputs": [],
   "source": [
    "# export just target columns, exactly how ete3 wants them (tab sep, ''#Names' matches 'name' from newick tre)\n",
    "merged.loc[:,['#Names', \"is_test\"] + to_scale].to_csv('meta_plottable.csv', sep='\\t', index=False)"
   ]
  },
  {
   "cell_type": "code",
   "execution_count": 104,
   "metadata": {},
   "outputs": [],
   "source": [
    "# finally plot meta info on tree\n",
    "t = ete3.ClusterTree('ncbi.mod.tre', text_array='meta_plottable.csv')\n",
    "ts = ete3.TreeStyle()\n",
    "ts.show_leaf_name = True\n",
    "t.show(\"heatmap\", tree_style=ts)"
   ]
  },
  {
   "cell_type": "code",
   "execution_count": 105,
   "metadata": {},
   "outputs": [],
   "source": [
    "# moving on to plots with prediction quality (F1 scores)\n",
    "# import (currently old binary encoding scores)\n",
    "aug = pd.read_csv('/home/ali/Ankylosaurus/Core_projects/Puma/geenuff_helixer_data/metafun/Augustus_results.csv')\n",
    "nn = pd.read_csv('/home/ali/Ankylosaurus/Core_projects/Puma/geenuff_helixer_data/metafun/single_genome_results_10k_LSTM_O647Aaic_CDS.csv')"
   ]
  },
  {
   "cell_type": "code",
   "execution_count": 106,
   "metadata": {},
   "outputs": [],
   "source": [
    "withpred = merged.merge(aug, left_on=\"species\", right_on=\"genome\", how=\"outer\")"
   ]
  },
  {
   "cell_type": "code",
   "execution_count": 107,
   "metadata": {},
   "outputs": [],
   "source": [
    "withpred = withpred.merge(nn, left_on=\"species\", right_on=\"genome\", how=\"outer\")"
   ]
  },
  {
   "cell_type": "code",
   "execution_count": 108,
   "metadata": {},
   "outputs": [],
   "source": [
    "# export tsv exactly how ete3 wants it\n",
    "withpred.loc[:, ['#Names', 'f1_cds_1_RT', 'f1_total_1', 'f1_cds_1']].to_csv('preds_table.csv', \n",
    "                                                                             sep='\\t', index=False)"
   ]
  },
  {
   "cell_type": "code",
   "execution_count": 109,
   "metadata": {},
   "outputs": [],
   "source": [
    "# plot with pred quality\n",
    "t = ete3.ClusterTree('ncbi.mod.tre', text_array='preds_table.csv')\n",
    "t.show('heatmap', tree_style=ts)"
   ]
  }
 ],
 "metadata": {
  "kernelspec": {
   "display_name": "Python 3",
   "language": "python",
   "name": "python3"
  },
  "language_info": {
   "codemirror_mode": {
    "name": "ipython",
    "version": 3
   },
   "file_extension": ".py",
   "mimetype": "text/x-python",
   "name": "python",
   "nbconvert_exporter": "python",
   "pygments_lexer": "ipython3",
   "version": "3.6.7"
  }
 },
 "nbformat": 4,
 "nbformat_minor": 2
}

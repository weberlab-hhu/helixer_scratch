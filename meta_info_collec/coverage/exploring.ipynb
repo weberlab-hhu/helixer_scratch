{
 "cells": [
  {
   "cell_type": "code",
   "execution_count": null,
   "metadata": {},
   "outputs": [],
   "source": [
    "import numpy as np\n",
    "import matplotlib.pyplot as plt\n",
    "import h5py\n",
    "from scipy.stats import rankdata\n",
    "import pandas as pd\n",
    "%matplotlib inline"
   ]
  },
  {
   "cell_type": "code",
   "execution_count": null,
   "metadata": {},
   "outputs": [],
   "source": [
    "f = h5py.File('test_data.h5')\n"
   ]
  },
  {
   "cell_type": "code",
   "execution_count": null,
   "metadata": {},
   "outputs": [],
   "source": [
    "p = h5py.File('../../../../predictions/plants/ensemble_IiFEB_IiFEB_11_TSTA8_TSTA8_6_m5MV8_m5MV8_11_mjnps_mjnps_6/Mesculenta/predictions.h5')"
   ]
  },
  {
   "cell_type": "code",
   "execution_count": null,
   "metadata": {},
   "outputs": [],
   "source": [
    "f['data/X'].shape[0]"
   ]
  },
  {
   "cell_type": "code",
   "execution_count": null,
   "metadata": {},
   "outputs": [],
   "source": [
    "# select examples of interest\n",
    "# just look at first 10k chunks to avoid mem errors and speed things up\n",
    "enough = 10_000\n",
    "\n",
    "# mask to skip anything with padding\n",
    "unpadded = np.sum(np.sum(f['data/X'][:enough], axis=2), axis=1) == 20000"
   ]
  },
  {
   "cell_type": "code",
   "execution_count": null,
   "metadata": {},
   "outputs": [],
   "source": [
    "# mask to skip anything that's just big and totally ig\n",
    "anynotig = np.argmax(f['data/y'][:enough], axis=2) + np.argmax(p['predictions'][:enough], axis=2) > 0\n",
    "notig10 = np.sum(anynotig, axis=1) / 20000 > 0.1\n",
    "\n",
    "# percent accuracy\n",
    "right = np.argmax(f['data/y'][:enough], axis=2) == np.argmax(p['predictions'][:enough], axis=2)\n",
    "acc = np.sum(right, axis=1) / 20000\n",
    "\n",
    "# track ori indexes\n",
    "#h5i = np.arange(f['data/X'].shape[0])\n",
    "h5i = np.arange(enough)"
   ]
  },
  {
   "cell_type": "code",
   "execution_count": null,
   "metadata": {},
   "outputs": [],
   "source": [
    "mask = unpadded & notig10\n",
    "h5i = h5i[mask]\n",
    "rankacc = rankdata(acc[mask])\n",
    "rankscore = rankdata(f['scores/one_centered'][:enough][mask])"
   ]
  },
  {
   "cell_type": "code",
   "execution_count": null,
   "metadata": {},
   "outputs": [],
   "source": [
    "upper = h5i.shape[0] * 0.9\n",
    "lower = h5i.shape[0] * 0.1\n",
    "\n",
    "#Low accuracy, high ref score\n",
    "candidates = h5i[(rankacc < lower) & (rankscore > upper)]\n",
    "#Low accuracy, low ref score\n",
    "#andidates = h5i[(rankacc < lower) & (rankscore < lower)]\n",
    "#High accuracy, high ref score\n",
    "#candidates = h5i[(rankacc > upper) & (rankscore > upper)]\n",
    "\n",
    "#High accuracy, low ref score\n",
    "#candidates = h5i[(rankacc > upper) & (rankscore < lower)]\n",
    "print(len(candidates))\n",
    "print(candidates)"
   ]
  },
  {
   "cell_type": "code",
   "execution_count": null,
   "metadata": {},
   "outputs": [],
   "source": [
    "h5i.shape"
   ]
  },
  {
   "cell_type": "code",
   "execution_count": null,
   "metadata": {},
   "outputs": [],
   "source": [
    "j = -1\n"
   ]
  },
  {
   "cell_type": "code",
   "execution_count": null,
   "metadata": {},
   "outputs": [],
   "source": [
    "j += 1\n",
    "i = candidates[j]\n",
    "print(i)\n",
    "\n",
    "\n",
    "print(f['data/seqids'][i], f['data/start_ends'][i])\n",
    "fig, (ax1, ax2, axaug, ax3) = plt.subplots(4, 1, sharex=True, figsize=(14,7),\n",
    "                                         gridspec_kw={\"height_ratios\": [2, 0.5, 0.5, 0.5]})\n",
    "#plt.figure(figsize=(3,10))\n",
    "\n",
    "ax1.plot(np.log(f['evaluation/coverage'][i] + 1), c='black')\n",
    "ax1.plot(np.log(f['evaluation/spliced_coverage'][i] + 1), c='cadetblue')\n",
    "ax1.set_xlim((0, 20000))\n",
    "ax1.set_ylabel(\"ln(coverage + 1)\")\n",
    "ax1.legend(['cov', 'sc'])\n",
    "\n",
    "yticks = ['', 'i-genic', 'utr', 'cds', 'intron']\n",
    "ax2.imshow(np.array(f['data/y'][i].T).astype(float), aspect=\"auto\")\n",
    "ax2.set_yticklabels(yticks)\n",
    "ax2.set_ylabel('reference')\n",
    "\n",
    "axaug.imshow(np.array(f['alternative/augustus/y'][i].T).astype(float), aspect=\"auto\")\n",
    "axaug.set_yticklabels(yticks)\n",
    "axaug.set_ylabel('augustus')\n",
    "\n",
    "ax3.imshow(np.array(p['predictions'][i].T).astype(float), aspect=\"auto\")\n",
    "ax3.set_yticklabels(yticks)\n",
    "ax3.set_ylabel('helixer')"
   ]
  },
  {
   "cell_type": "code",
   "execution_count": null,
   "metadata": {},
   "outputs": [],
   "source": [
    "def plot_selected(i, f, p, start, end):\n",
    "    print(i)\n",
    "    print(f['data/seqids'][i], f['data/start_ends'][i])\n",
    "    fig, (ax1, ax2, axaug, ax3) = plt.subplots(4, 1, sharex=True, figsize=(7,5),\n",
    "                                             gridspec_kw={\"height_ratios\": [1.5, 0.5, 0.5, 0.5]})\n",
    "    #plt.figure(figsize=(3,10))\n",
    "\n",
    "    ax1.plot(np.log(f['evaluation/coverage'][i][start:end] + 1), c='black')\n",
    "    ax1.plot(np.log(f['evaluation/spliced_coverage'][i][start:end] + 1), c='cadetblue')\n",
    "    ax1.set_xlim((0, end - start))\n",
    "    ax1.set_ylabel(\"ln(coverage + 1)\")\n",
    "    #ax1.legend(['cov', 'sc'])\n",
    "\n",
    "    yticks = ['IG', 'UTR', 'CDS', 'Ntrn']\n",
    "    ax2.imshow(1 - np.array(f['data/y'][i][start:end].T).astype(float), aspect=\"auto\", cmap='gray')\n",
    "    ax2.set_ylim([-0.5, 3.5])\n",
    "    ax2.set_yticks([0,1,2, 3])\n",
    "    ax2.set_yticklabels(yticks)\n",
    "    ax2.set_ylabel('Ref.')\n",
    "\n",
    "    axaug.imshow(1 - np.array(f['alternative/augustus/y'][i][start:end].T).astype(float), aspect=\"auto\", cmap='gray')\n",
    "    axaug.set_ylim([-0.5, 3.5])\n",
    "    axaug.set_yticks([0,1,2, 3])\n",
    "    axaug.set_yticklabels(yticks)\n",
    "    axaug.set_ylabel('Aug.')\n",
    "\n",
    "    ax3.imshow(1 - np.array(p['predictions'][i][start:end].T).astype(float), aspect=\"auto\", cmap='gray')\n",
    "    ax3.set_ylim([-0.5, 3.5])\n",
    "    ax3.set_yticks([0,1,2, 3])\n",
    "    ax3.set_yticklabels(yticks)\n",
    "    ax3.set_ylabel('Helixer')\n",
    "    se = f['data/start_ends'][i]\n",
    "\n",
    "    at = [0, 2000, 4000, 6000, 8000, 10000]\n",
    "    ax3.set_xticks(at)\n",
    "    offset = f['data/start_ends'][i][0] + start\n",
    "    if se[1] - se[0] > 0:\n",
    "        sign = '+'\n",
    "        ax3.set_xticklabels([int((offset + x)/ 10**3) for x in at])\n",
    "    else:\n",
    "        sign = '-'\n",
    "        ax3.set_xticklabels([int((offset - x)/ 10**3) for x in at])\n",
    "    ax3.set_xlabel('position on ({}) strand of {} in kbp'.format(sign, f['data/seqids'][i].decode()))\n",
    "    "
   ]
  },
  {
   "cell_type": "code",
   "execution_count": null,
   "metadata": {},
   "outputs": [],
   "source": [
    "# high score, low acc\n",
    "i = 6436\n",
    "start, end = 0, 10000\n",
    "plot_selected(i, f, p, start, end)\n",
    "plt.savefig(fname='highScore_lowAcc_001.eps')\n",
    "\n",
    "i = 5392\n",
    "start, end = 7000, 17000\n",
    "plot_selected(i, f, p, start, end)\n",
    "plt.savefig(fname='highScore_lowAcc_002.eps')\n",
    "\n",
    "i = 1162\n",
    "start, end = 6000, 16000\n",
    "plot_selected(i, f, p, start, end)\n",
    "plt.savefig(fname='highScore_lowAcc_003.eps')"
   ]
  },
  {
   "cell_type": "code",
   "execution_count": null,
   "metadata": {},
   "outputs": [],
   "source": [
    "# low score, low acc\n",
    "# looks good\n",
    "i = 1024\n",
    "start, end = 10000, 20000\n",
    "plot_selected(i, f, p, start, end)\n",
    "plt.savefig(fname='lowScore_lowAcc_001.eps')\n",
    "\n",
    "i = 392\n",
    "start, end = 0, 10000\n",
    "plot_selected(i, f, p, start, end)\n",
    "plt.savefig(fname='lowScore_lowAcc_002.eps')\n",
    "\n",
    "\n",
    "# errors to go around\n",
    "i = 432\n",
    "start, end = 10000, 20000\n",
    "plot_selected(i, f, p, start, end)\n",
    "plt.savefig(fname='lowScore_lowAcc_003.eps')\n"
   ]
  },
  {
   "cell_type": "code",
   "execution_count": null,
   "metadata": {},
   "outputs": [],
   "source": [
    "# high acc high score\n",
    "\n",
    "i = 18\n",
    "start, end = 5000, 15000\n",
    "plot_selected(i, f, p, start, end)\n",
    "plt.savefig(fname='highScore_highAcc_001.eps')\n",
    "\n",
    "\n",
    "i = 7113\n",
    "start, end = 2500,12500\n",
    "plot_selected(i, f, p, start, end)\n",
    "plt.savefig(fname='highScore_highAcc_002.eps')\n",
    "\n",
    "\n",
    "i = 3233\n",
    "start, end = 0, 10000\n",
    "plot_selected(i, f, p, start, end)\n",
    "plt.savefig(fname='highScore_highAcc_003.eps')\n"
   ]
  },
  {
   "cell_type": "code",
   "execution_count": null,
   "metadata": {},
   "outputs": [],
   "source": [
    "# high acc, low score\n",
    "\n",
    "# ghost gene\n",
    "i = 5569\n",
    "start, end = 5000, 15000\n",
    "plot_selected(i, f, p, start, end)\n",
    "plt.savefig(fname='lowScore_highAcc_001.eps')\n",
    "\n",
    "# missed intron?\n",
    "i = 5967\n",
    "plot_selected(i, f, p, start, end)\n",
    "plt.savefig(fname='lowScore_highAcc_002.eps')\n",
    "\n",
    "# spliced read mapping error\n",
    "i = 9936\n",
    "start, end = 3000, 13000\n",
    "plot_selected(i, f, p, start, end)\n",
    "plt.savefig(fname='lowScore_highAcc_003.eps')\n"
   ]
  },
  {
   "cell_type": "code",
   "execution_count": null,
   "metadata": {},
   "outputs": [],
   "source": []
  }
 ],
 "metadata": {
  "kernelspec": {
   "display_name": "Python 3",
   "language": "python",
   "name": "python3"
  },
  "language_info": {
   "codemirror_mode": {
    "name": "ipython",
    "version": 3
   },
   "file_extension": ".py",
   "mimetype": "text/x-python",
   "name": "python",
   "nbconvert_exporter": "python",
   "pygments_lexer": "ipython3",
   "version": "3.6.9"
  }
 },
 "nbformat": 4,
 "nbformat_minor": 2
}

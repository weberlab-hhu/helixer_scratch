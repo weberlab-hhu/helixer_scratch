{
 "cells": [
  {
   "cell_type": "code",
   "execution_count": null,
   "metadata": {},
   "outputs": [],
   "source": [
    "import numpy as np\n",
    "import matplotlib.pyplot as plt\n",
    "import matplotlib.gridspec as gridspec\n",
    "import h5py\n",
    "from scipy.stats import rankdata\n",
    "import pandas as pd\n",
    "import glob\n",
    "%matplotlib inline"
   ]
  },
  {
   "cell_type": "code",
   "execution_count": null,
   "metadata": {},
   "outputs": [],
   "source": [
    "f.close()\n",
    "p.close()"
   ]
  },
  {
   "cell_type": "code",
   "execution_count": null,
   "metadata": {},
   "outputs": [],
   "source": [
    "sp = 'Mesculenta'\n",
    "group = 'plants'"
   ]
  },
  {
   "cell_type": "code",
   "execution_count": null,
   "metadata": {},
   "outputs": [],
   "source": [
    "sp = 'Mtruncatula'"
   ]
  },
  {
   "cell_type": "code",
   "execution_count": null,
   "metadata": {},
   "outputs": [],
   "source": [
    "sp = 'Tcacao'"
   ]
  },
  {
   "cell_type": "code",
   "execution_count": null,
   "metadata": {},
   "outputs": [],
   "source": [
    "sp = 'papio_anubis'\n",
    "group = 'animals'"
   ]
  },
  {
   "cell_type": "code",
   "execution_count": null,
   "metadata": {},
   "outputs": [],
   "source": [
    "sp = 'equus_caballus'"
   ]
  },
  {
   "cell_type": "code",
   "execution_count": null,
   "metadata": {},
   "outputs": [],
   "source": [
    "sp = 'petromyzon_marinus'"
   ]
  },
  {
   "cell_type": "code",
   "execution_count": null,
   "metadata": {},
   "outputs": [],
   "source": [
    "\n",
    "path = glob.glob('../../../{}/single*/{}/test_data.h5'.format(group, sp))[0]\n",
    "f = h5py.File(path)"
   ]
  },
  {
   "cell_type": "code",
   "execution_count": null,
   "metadata": {},
   "outputs": [],
   "source": [
    "path = glob.glob('../../../../predictions/{}/ensemble_*/{}/predictions.h5'.format(group, sp))[0]\n",
    "p = h5py.File(path)"
   ]
  },
  {
   "cell_type": "code",
   "execution_count": null,
   "metadata": {},
   "outputs": [],
   "source": [
    "f['data/X'].shape[0]"
   ]
  },
  {
   "cell_type": "code",
   "execution_count": null,
   "metadata": {},
   "outputs": [],
   "source": [
    "\n",
    "# select examples of interest\n",
    "# just look at first 10k chunks to avoid mem errors and speed things up\n",
    "startenough = 0_000\n",
    "enough = 10_000 + startenough\n",
    "\n",
    "# mask to skip anything with padding\n",
    "chunk_size = f['data/X'].shape[1]\n",
    "print(chunk_size)\n",
    "unpadded = np.sum(np.sum(f['data/X'][startenough:enough].astype(float), axis=2), axis=1) == chunk_size\n"
   ]
  },
  {
   "cell_type": "code",
   "execution_count": null,
   "metadata": {},
   "outputs": [],
   "source": [
    "# mask to skip anything that's just big and totally ig\n",
    "anynotig = np.argmax(f['data/y'][startenough:enough], axis=2) + np.argmax(p['predictions'][startenough:enough], axis=2) > 0\n",
    "notig10 = np.sum(anynotig, axis=1) / chunk_size > 0.1\n",
    "\n",
    "# percent accuracy\n",
    "right = np.argmax(f['data/y'][startenough:enough], axis=2) == np.argmax(p['predictions'][startenough:enough], axis=2)\n",
    "acc = np.sum(right, axis=1) / chunk_size\n",
    "\n"
   ]
  },
  {
   "cell_type": "code",
   "execution_count": null,
   "metadata": {},
   "outputs": [],
   "source": [
    "# track ori indexes\n",
    "h5i = np.arange(startenough, enough, 1)"
   ]
  },
  {
   "cell_type": "code",
   "execution_count": null,
   "metadata": {},
   "outputs": [],
   "source": [
    "mask = unpadded & notig10\n",
    "h5i = h5i[mask]\n",
    "rankacc = rankdata(acc[mask])\n",
    "rankscore = rankdata(f['scores/one_centered'][startenough:enough][mask])"
   ]
  },
  {
   "cell_type": "code",
   "execution_count": null,
   "metadata": {},
   "outputs": [],
   "source": [
    "upper = h5i.shape[0] * 0.9\n",
    "lower = h5i.shape[0] * 0.1\n",
    "\n",
    "#Low accuracy, high ref score\n",
    "candidates = h5i[(rankacc < lower) & (rankscore > upper)]\n",
    "#Low accuracy, low ref score\n",
    "candidates = h5i[(rankacc < lower) & (rankscore < lower)]\n",
    "#High accuracy, high ref score\n",
    "candidates = h5i[(rankacc > upper) & (rankscore > upper)]\n",
    "\n",
    "#High accuracy, low ref score\n",
    "candidates = h5i[(rankacc > upper) & (rankscore < lower)]\n",
    "print(len(candidates))\n",
    "print(candidates)"
   ]
  },
  {
   "cell_type": "code",
   "execution_count": null,
   "metadata": {},
   "outputs": [],
   "source": [
    "h5i.shape"
   ]
  },
  {
   "cell_type": "code",
   "execution_count": null,
   "metadata": {},
   "outputs": [],
   "source": [
    "j = -1\n"
   ]
  },
  {
   "cell_type": "code",
   "execution_count": null,
   "metadata": {},
   "outputs": [],
   "source": [
    "j += 1\n",
    "i = candidates[j]\n",
    "print(i)\n",
    "\n",
    "\n",
    "print(f['data/seqids'][i], f['data/start_ends'][i])\n",
    "fig, (ax1, ax2, axaug, ax3) = plt.subplots(4, 1, sharex=True, figsize=(14,7),\n",
    "                                         gridspec_kw={\"height_ratios\": [2, 0.5, 0.5, 0.5]})\n",
    "#plt.figure(figsize=(3,10))\n",
    "\n",
    "ax1.plot(np.log(f['evaluation/coverage'][i] + 1), c='black')\n",
    "ax1.plot(np.log(f['evaluation/spliced_coverage'][i] + 1), c='grey', linestyle=':')\n",
    "ax1.set_xlim((0, chunk_size))\n",
    "ax1.set_ylabel(\"ln(coverage + 1)\")\n",
    "ax1.legend(['cov', 'sc'])\n",
    "\n",
    "yticks = ['', 'i-genic', 'utr', 'cds', 'intron']\n",
    "ax2.imshow(np.array(f['data/y'][i].T).astype(float), aspect=\"auto\", interpolation='none')\n",
    "ax2.set_yticklabels(yticks)\n",
    "ax2.set_ylabel('reference')\n",
    "\n",
    "axaug.imshow(np.array(f['alternative/augustus/y'][i].T).astype(float), aspect=\"auto\", interpolation='none')\n",
    "utrmarker = np.array([1] * 20000)\n",
    "axaug.plot(utrmarker, linestyle=(0, (10, 5)), c='black')\n",
    "axaug.set_yticklabels(yticks)\n",
    "axaug.set_ylabel('augustus')\n",
    "\n",
    "ax3.imshow(np.array(p['predictions'][i].T).astype(float), aspect=\"auto\", interpolation='none')\n",
    "ax3.set_yticklabels(yticks)\n",
    "ax3.set_ylabel('helixer')\n"
   ]
  },
  {
   "cell_type": "code",
   "execution_count": null,
   "metadata": {},
   "outputs": [],
   "source": [
    "utrmarker[:3] + 1"
   ]
  },
  {
   "cell_type": "code",
   "execution_count": null,
   "metadata": {},
   "outputs": [],
   "source": [
    "print(get_seq(i=i, f=f, start=9900, end=10100))\n",
    "print(get_seq(i=i, f=f, start=11200, end=12000))"
   ]
  },
  {
   "cell_type": "code",
   "execution_count": null,
   "metadata": {},
   "outputs": [],
   "source": [
    "def plot_selected(i, f, p, start, end, figsize=(7, 4.2), as_int=True, legend=False, c_augline='gainsboro'):\n",
    "    print(i)\n",
    "    print(f['data/seqids'][i], f['data/start_ends'][i])\n",
    "    fig, (ax1, ax2, axaug, ax3) = plt.subplots(4, 1, sharex=True, figsize=figsize,\n",
    "                                             gridspec_kw={\"height_ratios\": [1.2, 0.5, 0.5, 0.5]})\n",
    "    #plt.figure(figsize=(3,10))\n",
    "\n",
    "    ax1.plot(np.log(f['evaluation/coverage'][i][start:end] + 1), c='black')\n",
    "    ax1.plot(np.log(f['evaluation/spliced_coverage'][i][start:end] + 1), c='dimgrey', linestyle=':')\n",
    "    ax1.set_xlim((0, end - start))\n",
    "    ax1.set_ylabel(\"ln(coverage + 1)\")\n",
    "    if legend:\n",
    "        ax1.legend(['cov', 'sc'])\n",
    "\n",
    "    yticks = ['IG', 'UTR', 'CDS', 'Ntrn']\n",
    "    ax2.imshow(1 - np.array(f['data/y'][i][start:end].T).astype(float), aspect=\"auto\", \n",
    "               cmap='gray', interpolation='none')\n",
    "    ax2.set_ylim([-0.5, 3.5])\n",
    "    ax2.set_yticks([0,1,2, 3])\n",
    "    ax2.set_yticklabels(yticks)\n",
    "    ax2.set_ylabel('Ref.')\n",
    "\n",
    "    axaug.imshow(1 - np.array(f['alternative/augustus/y'][i][start:end].T).astype(float), aspect=\"auto\", \n",
    "                 cmap='gray', interpolation='none')\n",
    "    utrmarker = np.array([1] * 20000)\n",
    "    axaug.plot(utrmarker, linestyle=(0, (10, 5)), c=c_augline)\n",
    "    axaug.set_ylim([-0.5, 3.5])\n",
    "    axaug.set_yticks([0,1,2, 3])\n",
    "    axaug.set_yticklabels(yticks)\n",
    "    axaug.set_ylabel('Aug.')\n",
    "\n",
    "    ax3.imshow(1 - np.array(p['predictions'][i][start:end].T).astype(float), aspect=\"auto\", \n",
    "               cmap='gray', interpolation='none')\n",
    "    ax3.set_ylim([-0.5, 3.5])\n",
    "    ax3.set_yticks([0,1,2, 3])\n",
    "    ax3.set_yticklabels(yticks)\n",
    "    ax3.set_ylabel('Helixer')\n",
    "    se = f['data/start_ends'][i]\n",
    "\n",
    "    at = [x * (end - start) for x in [0, .2, .4, .60, .8, 1]]\n",
    "    ax3.set_xticks(at)\n",
    "    offset = f['data/start_ends'][i][0] + start\n",
    "    if se[1] - se[0] > 0:\n",
    "        sign = '+'\n",
    "        xticklabs = [(offset + x)/ 10**3 for x in at]\n",
    "    else:\n",
    "        sign = '-'\n",
    "        xticklabs = [(offset - x)/ 10**3 for x in at]\n",
    "    if as_int:\n",
    "        xticklabs = [int(x) for x in xticklabs]\n",
    "    else:\n",
    "        xticklabs = [round(x, 2) for x in xticklabs]\n",
    "    ax3.set_xticklabels(xticklabs)\n",
    "    ax3.set_xlabel('position on ({}) strand of {} in kbp'.format(sign, f['data/seqids'][i].decode()))\n",
    "    "
   ]
  },
  {
   "cell_type": "code",
   "execution_count": null,
   "metadata": {},
   "outputs": [],
   "source": [
    "# petromyzon_marinus\n",
    "i = 3166\n",
    "start, end = 8000, 9000\n",
    "plot_selected(i, f, p, start, end, figsize=(15, 4.2), as_int=False, legend=True)\n",
    "plt.savefig(fname='zooms/petromyzon_marinus3166.eps')\n"
   ]
  },
  {
   "cell_type": "code",
   "execution_count": null,
   "metadata": {},
   "outputs": [],
   "source": [
    "# equus_caballus\n",
    "i = 691\n",
    "start, end = 91200, 92200\n",
    "plot_selected(i, f, p, start, end, figsize=(15, 4.2), as_int=False, legend=True)\n",
    "plt.savefig(fname='zooms/equus_caballus691.eps')\n",
    "i = 981\n",
    "start, end = 12500, 13500\n",
    "plot_selected(i, f, p, start, end, figsize=(15, 4.2), as_int=False, legend=True)\n",
    "plt.savefig(fname='zooms/equus_caballus981.eps')"
   ]
  },
  {
   "cell_type": "code",
   "execution_count": null,
   "metadata": {},
   "outputs": [],
   "source": [
    "# papio_anubis \n",
    "i = 479\n",
    "start, end = 78800, 79800\n",
    "plot_selected(i, f, p, start, end, figsize=(15, 4.2), as_int=False, legend=True)\n",
    "\n",
    "plt.savefig(fname='zooms/papio_anubis479.eps')"
   ]
  },
  {
   "cell_type": "code",
   "execution_count": null,
   "metadata": {},
   "outputs": [],
   "source": [
    "# Mtruncatula \n",
    "i = 146\n",
    "start, end = 17800, 18800\n",
    "plot_selected(i, f, p, start, end, figsize=(15, 4.2), as_int=False, legend=True)\n",
    "plt.savefig(fname='zooms/Mtruncatula146.eps')\n",
    "i = 1\n",
    "start, end = 5600, 6600\n",
    "plot_selected(i, f, p, start, end, figsize=(15, 4.2), as_int=False, legend=True)\n",
    "plt.savefig(fname='zooms/Mtruncatula1.eps')"
   ]
  },
  {
   "cell_type": "code",
   "execution_count": null,
   "metadata": {},
   "outputs": [],
   "source": [
    "# Tcacao \n",
    "i = 1602\n",
    "start, end = 7000, 8000\n",
    "plot_selected(i, f, p, start, end, figsize=(15, 4.2), as_int=False, legend=True)\n",
    "plt.savefig(fname='zooms/Tcacao1602.eps')"
   ]
  },
  {
   "cell_type": "code",
   "execution_count": null,
   "metadata": {},
   "outputs": [],
   "source": [
    "# Mesculenta\n",
    "i = 3378\n",
    "start, end = 18300, 19300\n",
    "plot_selected(i, f, p, start, end, figsize=(15, 4.2), as_int=False, legend=True)\n",
    "plt.savefig(fname='zooms/Mesculenta3378.eps')\n"
   ]
  },
  {
   "cell_type": "code",
   "execution_count": null,
   "metadata": {},
   "outputs": [],
   "source": [
    "## Mesculenta\n",
    "# high score, low acc\n",
    "i = 6436\n",
    "start, end = 0, 10000\n",
    "plot_selected(i, f, p, start, end)\n",
    "plt.savefig(fname='highScore_lowAcc_001.eps')\n",
    "\n",
    "i = 5392\n",
    "start, end = 7000, 17000\n",
    "plot_selected(i, f, p, start, end)\n",
    "plt.savefig(fname='highScore_lowAcc_002.eps')\n",
    "\n",
    "i = 1162\n",
    "start, end = 6000, 16000\n",
    "plot_selected(i, f, p, start, end)\n",
    "plt.savefig(fname='highScore_lowAcc_003.eps')"
   ]
  },
  {
   "cell_type": "code",
   "execution_count": null,
   "metadata": {},
   "outputs": [],
   "source": [
    "# low score, low acc\n",
    "# looks good\n",
    "i = 1024\n",
    "start, end = 10000, 20000\n",
    "plot_selected(i, f, p, start, end)\n",
    "plt.savefig(fname='lowScore_lowAcc_001.eps')\n",
    "\n",
    "i = 392\n",
    "start, end = 0, 10000\n",
    "plot_selected(i, f, p, start, end)\n",
    "plt.savefig(fname='lowScore_lowAcc_002.eps')\n",
    "\n",
    "\n",
    "# errors to go around\n",
    "i = 432\n",
    "start, end = 10000, 20000\n",
    "plot_selected(i, f, p, start, end)\n",
    "plt.savefig(fname='lowScore_lowAcc_003.eps')\n"
   ]
  },
  {
   "cell_type": "code",
   "execution_count": null,
   "metadata": {},
   "outputs": [],
   "source": [
    "# high acc high score\n",
    "\n",
    "i = 18\n",
    "start, end = 5000, 15000\n",
    "plot_selected(i, f, p, start, end)\n",
    "plt.savefig(fname='highScore_highAcc_001.eps')\n",
    "\n",
    "\n",
    "i = 7113\n",
    "start, end = 2500,12500\n",
    "plot_selected(i, f, p, start, end)\n",
    "plt.savefig(fname='highScore_highAcc_002.eps')\n",
    "\n",
    "\n",
    "i = 3233\n",
    "start, end = 0, 10000\n",
    "plot_selected(i, f, p, start, end)\n",
    "plt.savefig(fname='highScore_highAcc_003.eps')\n"
   ]
  },
  {
   "cell_type": "code",
   "execution_count": null,
   "metadata": {},
   "outputs": [],
   "source": [
    "# high acc, low score\n",
    "\n",
    "# ghost gene\n",
    "i = 5569\n",
    "start, end = 5000, 15000\n",
    "plot_selected(i, f, p, start, end, legend=True)\n",
    "plt.savefig(fname='lowScore_highAcc_001.eps')\n",
    "\n",
    "# missed intron?\n",
    "i = 5967\n",
    "plot_selected(i, f, p, start, end, legend=True)\n",
    "plt.savefig(fname='lowScore_highAcc_002.eps')\n",
    "\n",
    "# spliced read mapping error\n",
    "i = 9936\n",
    "start, end = 3000, 13000\n",
    "plot_selected(i, f, p, start, end, legend=True)\n",
    "plt.savefig(fname='lowScore_highAcc_003.eps')\n"
   ]
  },
  {
   "cell_type": "code",
   "execution_count": null,
   "metadata": {},
   "outputs": [],
   "source": [
    "def get_seq(i, f, start, end):\n",
    "    bps = 'catg'\n",
    "    argmaxes = np.argmax(f['data/X'][i][start:end], axis=1)\n",
    "    return ''.join([bps[c] for c in argmaxes])"
   ]
  },
  {
   "cell_type": "code",
   "execution_count": null,
   "metadata": {},
   "outputs": [],
   "source": []
  }
 ],
 "metadata": {
  "kernelspec": {
   "display_name": "Python 3",
   "language": "python",
   "name": "python3"
  },
  "language_info": {
   "codemirror_mode": {
    "name": "ipython",
    "version": 3
   },
   "file_extension": ".py",
   "mimetype": "text/x-python",
   "name": "python",
   "nbconvert_exporter": "python",
   "pygments_lexer": "ipython3",
   "version": "3.6.7"
  }
 },
 "nbformat": 4,
 "nbformat_minor": 2
}

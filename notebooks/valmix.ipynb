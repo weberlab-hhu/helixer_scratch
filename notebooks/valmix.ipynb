{
 "cells": [
  {
   "cell_type": "code",
   "execution_count": null,
   "id": "saving-florence",
   "metadata": {},
   "outputs": [],
   "source": [
    "import matplotlib.pyplot as plt\n",
    "import matplotlib\n",
    "import numpy as np\n",
    "import pandas as pd\n",
    "import seaborn as sns\n",
    "import copy"
   ]
  },
  {
   "cell_type": "code",
   "execution_count": null,
   "id": "boolean-hometown",
   "metadata": {},
   "outputs": [],
   "source": [
    "%config Completer.use_jedi = False\n",
    "%matplotlib inline"
   ]
  },
  {
   "cell_type": "code",
   "execution_count": null,
   "id": "isolated-england",
   "metadata": {},
   "outputs": [],
   "source": [
    "def to_set_fold(model_file):\n",
    "    stripped = model_file.replace('best_model_v_', '')\n",
    "    stripped = stripped.replace('.h5', '')\n",
    "    stripped = stripped.replace('_drop', '')\n",
    "    return stripped[:-1], int(stripped[-1])"
   ]
  },
  {
   "cell_type": "code",
   "execution_count": null,
   "id": "conditional-trustee",
   "metadata": {},
   "outputs": [],
   "source": [
    "dats = []\n",
    "for fold in range(4):\n",
    "    dat = pd.read_csv(f'data_splits/valmix/f1_scores_valmix_fold{fold}.csv', header=None)\n",
    "    dats.append(dat)"
   ]
  },
  {
   "cell_type": "code",
   "execution_count": null,
   "id": "perceived-means",
   "metadata": {},
   "outputs": [],
   "source": [
    "dat = pd.concat(dats)"
   ]
  },
  {
   "cell_type": "code",
   "execution_count": null,
   "id": "concrete-soviet",
   "metadata": {},
   "outputs": [],
   "source": [
    "\n",
    "dat.columns = ['model', 'species', 'genic_f1', 'sub_genic_f1']\n",
    "\n",
    "dat.loc[:, [\"valset\", \"fold\"]] = [to_set_fold(m) for m in dat.loc[:, \"model\"]]"
   ]
  },
  {
   "cell_type": "code",
   "execution_count": null,
   "id": "endless-imaging",
   "metadata": {},
   "outputs": [],
   "source": [
    "#dat.sort_values(by=['fold', 'species'], ascending=True)"
   ]
  },
  {
   "cell_type": "code",
   "execution_count": null,
   "id": "fatty-pasta",
   "metadata": {},
   "outputs": [],
   "source": [
    "plt.figure(figsize=(10,10))\n",
    "ax = sns.boxplot(x='valset', y='genic_f1', data=dat)\n",
    " \n",
    "ax = sns.swarmplot(x='valset', y='genic_f1', data=dat, hue=\"species\")\n",
    "ax.get_legend().remove()"
   ]
  },
  {
   "cell_type": "code",
   "execution_count": null,
   "id": "mathematical-venue",
   "metadata": {},
   "outputs": [],
   "source": [
    "plt.figure(figsize=(10,10))\n",
    "ax = sns.boxplot(x='fold', hue='valset', y='genic_f1', data=dat)\n",
    " \n",
    "#ax = sns.swarmplot(x='valset', y='genic_f1', data=dat, hue=\"species\")\n",
    "#ax.get_legend().remove()"
   ]
  },
  {
   "cell_type": "code",
   "execution_count": null,
   "id": "expensive-mixer",
   "metadata": {},
   "outputs": [],
   "source": [
    "pivotted = dat.pivot(columns='valset', index=['species', 'fold'], values='genic_f1')"
   ]
  },
  {
   "cell_type": "code",
   "execution_count": null,
   "id": "western-engineering",
   "metadata": {},
   "outputs": [],
   "source": [
    "plt.bar(height=np.sort(pivotted['eval'] - pivotted['all']), x=range(pivotted.shape[0]))\n",
    "plt.ylabel(\"genic F1(eval - all)\")\n",
    "plt.xticks([])\n",
    "plt.xlabel(\"species, sorted\")"
   ]
  },
  {
   "cell_type": "code",
   "execution_count": null,
   "id": "sealed-jordan",
   "metadata": {},
   "outputs": [],
   "source": [
    "mycol = np.array([['#5D8AA8', '#D3212D', '#5D8AA8', '#5D8AA8'][x[1]] for x in pivotted.index])\n",
    "differences = pivotted['eval'] - pivotted['train']\n",
    "plt.bar(height=np.sort(differences), x=range(pivotted.shape[0]), \n",
    "        color=mycol[np.argsort(np.array(differences))])\n",
    "plt.ylabel(\"genic F1(eval - all)\")\n",
    "plt.xticks([])\n",
    "plt.xlabel(\"species, sorted\")"
   ]
  },
  {
   "cell_type": "code",
   "execution_count": null,
   "id": "sustainable-server",
   "metadata": {},
   "outputs": [],
   "source": [
    "differences[np.argsort(np.array(differences))][:20]\n"
   ]
  },
  {
   "cell_type": "code",
   "execution_count": null,
   "id": "sized-military",
   "metadata": {},
   "outputs": [],
   "source": [
    "subdat = dat.loc[[x in [0, 2, 3] for x in dat.loc[:,'fold']], :]\n",
    "pivotted = subdat.pivot(columns='valset', index='species', values='genic_f1')\n",
    "plt.bar(height=np.sort(pivotted['eval'] - pivotted['train']), x=range(pivotted.shape[0]))\n",
    "plt.ylabel(\"genic F1(eval - all)\")\n",
    "plt.xticks([])\n",
    "plt.xlabel(\"species, sorted\")"
   ]
  },
  {
   "cell_type": "code",
   "execution_count": null,
   "id": "proved-family",
   "metadata": {},
   "outputs": [],
   "source": [
    "subdat = dat.loc[[x in [1] for x in dat.loc[:,'fold']], :]\n",
    "pivotted = subdat.pivot(columns='valset', index='species', values='genic_f1')\n",
    "plt.bar(height=np.sort(pivotted['eval'] - pivotted['train']), x=range(pivotted.shape[0]))\n",
    "plt.ylabel(\"genic F1(eval - all)\")\n",
    "plt.xticks([])\n",
    "plt.xlabel(\"species, sorted\")"
   ]
  },
  {
   "cell_type": "code",
   "execution_count": null,
   "id": "august-detection",
   "metadata": {},
   "outputs": [],
   "source": []
  },
  {
   "cell_type": "code",
   "execution_count": null,
   "id": "wrapped-michael",
   "metadata": {},
   "outputs": [],
   "source": [
    "epochs = pd.read_csv('data_splits/valmix/epochs_to_best.csv')"
   ]
  },
  {
   "cell_type": "code",
   "execution_count": null,
   "id": "original-complexity",
   "metadata": {},
   "outputs": [],
   "source": [
    "epochs"
   ]
  },
  {
   "cell_type": "code",
   "execution_count": null,
   "id": "given-singles",
   "metadata": {},
   "outputs": [],
   "source": [
    "################ more vs quality\n",
    "# uses valmix eval as the 'quality'\n",
    "# 'more' swaps the train/val species that were used"
   ]
  },
  {
   "cell_type": "code",
   "execution_count": null,
   "id": "cbdcfe5d",
   "metadata": {},
   "outputs": [],
   "source": [
    "def to_moqsmall_fold(model_file):\n",
    "    stripped = model_file.replace('best_model_', '')\n",
    "    stripped = stripped.replace('.h5', '')\n",
    "    stripped = stripped.replace('_drop', '')\n",
    "    fold = int(stripped[-1])\n",
    "    stripped = stripped[:-1]\n",
    "    if stripped[-1] == \"_\":\n",
    "        stripped = stripped[:-1]\n",
    "    return stripped, fold"
   ]
  },
  {
   "cell_type": "code",
   "execution_count": null,
   "id": "29b75b2d",
   "metadata": {},
   "outputs": [],
   "source": [
    "moqsmalls = pd.read_csv(\"data_splits/f1_moq_smalls.csv\", header=None)"
   ]
  },
  {
   "cell_type": "code",
   "execution_count": null,
   "id": "80bf7e30",
   "metadata": {},
   "outputs": [],
   "source": [
    "moqsmalls"
   ]
  },
  {
   "cell_type": "code",
   "execution_count": null,
   "id": "767027d1",
   "metadata": {},
   "outputs": [],
   "source": [
    "x = [3,5,76]"
   ]
  },
  {
   "cell_type": "code",
   "execution_count": null,
   "id": "757db342",
   "metadata": {},
   "outputs": [],
   "source": [
    "x.pop(-1)"
   ]
  },
  {
   "cell_type": "code",
   "execution_count": null,
   "id": "babc9d2d",
   "metadata": {},
   "outputs": [],
   "source": [
    "x"
   ]
  },
  {
   "cell_type": "code",
   "execution_count": null,
   "id": "180bb397",
   "metadata": {},
   "outputs": [],
   "source": [
    "moqsmalls.columns = ['model', 'species', 'genic_f1', 'sub_genic_f1']"
   ]
  },
  {
   "cell_type": "code",
   "execution_count": null,
   "id": "93e81989",
   "metadata": {},
   "outputs": [],
   "source": [
    "moqsmalls.loc[:,['valset', 'fold']] = [to_moqsmall_fold(x) for x in moqsmalls[\"model\"]]"
   ]
  },
  {
   "cell_type": "code",
   "execution_count": null,
   "id": "b941fe83",
   "metadata": {},
   "outputs": [],
   "source": [
    "# grab metaok too\n",
    "metaok = pd.read_csv(\"data_splits/f1_metaok.csv\", header=None)\n",
    "metaok.columns = ['model', 'species', 'genic_f1', 'sub_genic_f1']\n",
    "metaok.loc[:,['valset', 'fold']] = [to_moqsmall_fold(x) for x in metaok[\"model\"]]"
   ]
  },
  {
   "cell_type": "code",
   "execution_count": null,
   "id": "3b1c6c07",
   "metadata": {},
   "outputs": [],
   "source": [
    "metaok"
   ]
  },
  {
   "cell_type": "code",
   "execution_count": null,
   "id": "68291081",
   "metadata": {},
   "outputs": [],
   "source": [
    "# put together just the pair to compare wheter thraining with more or the quailty selected\n",
    "# species generalizes/performs better on left out test species\n",
    "moq = pd.concat([dat.loc[dat[\"valset\"] == \"eval\", :],\n",
    "                 moqsmalls.loc[moqsmalls[\"valset\"] == \"drop\", :],\n",
    "                 metaok])"
   ]
  },
  {
   "cell_type": "code",
   "execution_count": null,
   "id": "c5becc3e",
   "metadata": {},
   "outputs": [],
   "source": [
    "moq.columns = list(moq.columns[:4]) + ['trainers'] + list(moq.columns[5:])"
   ]
  },
  {
   "cell_type": "code",
   "execution_count": null,
   "id": "05cd0123",
   "metadata": {},
   "outputs": [],
   "source": [
    "moq[\"trainers\"] = [{\"drop\": \"more\", \"eval\": \"qual\", \"metaok\": \"metaok\"}[x] for x in moq[\"trainers\"]]"
   ]
  },
  {
   "cell_type": "code",
   "execution_count": null,
   "id": "a7894740",
   "metadata": {},
   "outputs": [],
   "source": [
    "plt.figure(figsize=(10,10))\n",
    "ax = sns.boxplot(x='fold', hue='trainers', y='genic_f1', data=moq,)\n",
    "# OK, then, inconclusiveness FTW -_-"
   ]
  },
  {
   "cell_type": "code",
   "execution_count": null,
   "id": "c8d58343",
   "metadata": {},
   "outputs": [],
   "source": [
    "dat.loc[dat[\"valset\"] == \"train\", :]\n",
    "#dat"
   ]
  },
  {
   "cell_type": "code",
   "execution_count": null,
   "id": "21a5535e",
   "metadata": {},
   "outputs": [],
   "source": [
    "####### more only, dataset size\n",
    "smalls = copy.deepcopy(moqsmalls)\n",
    "smalls.columns = list(smalls.columns[:4]) + ['train_size'] + list(smalls.columns[5:])"
   ]
  },
  {
   "cell_type": "code",
   "execution_count": null,
   "id": "c012ae07",
   "metadata": {},
   "outputs": [],
   "source": [
    "smalls.loc[smalls[\"train_size\"] == \"drop\", \"train_size\"] = \"large\"\n"
   ]
  },
  {
   "cell_type": "code",
   "execution_count": null,
   "id": "873c8960",
   "metadata": {},
   "outputs": [],
   "source": [
    "smalls.sort_values(by=\"train_size\")"
   ]
  },
  {
   "cell_type": "code",
   "execution_count": null,
   "id": "8c050b13",
   "metadata": {},
   "outputs": [],
   "source": [
    "plt.figure(figsize=(10,10))\n",
    "ax = sns.boxplot(x='fold', hue='train_size', y='genic_f1', data=smalls.sort_values(by=\"train_size\"))"
   ]
  },
  {
   "cell_type": "code",
   "execution_count": null,
   "id": "a8ee66a7",
   "metadata": {},
   "outputs": [],
   "source": []
  }
 ],
 "metadata": {
  "kernelspec": {
   "display_name": "Python 3",
   "language": "python",
   "name": "python3"
  },
  "language_info": {
   "codemirror_mode": {
    "name": "ipython",
    "version": 3
   },
   "file_extension": ".py",
   "mimetype": "text/x-python",
   "name": "python",
   "nbconvert_exporter": "python",
   "pygments_lexer": "ipython3",
   "version": "3.6.9"
  }
 },
 "nbformat": 4,
 "nbformat_minor": 5
}

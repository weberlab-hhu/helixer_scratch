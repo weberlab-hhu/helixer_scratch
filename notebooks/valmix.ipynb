{
 "cells": [
  {
   "cell_type": "code",
   "execution_count": null,
   "id": "saving-florence",
   "metadata": {},
   "outputs": [],
   "source": [
    "import matplotlib.pyplot as plt\n",
    "import matplotlib\n",
    "import numpy as np\n",
    "import pandas as pd\n",
    "import seaborn as sns\n",
    "import copy"
   ]
  },
  {
   "cell_type": "code",
   "execution_count": null,
   "id": "boolean-hometown",
   "metadata": {},
   "outputs": [],
   "source": [
    "%config Completer.use_jedi = False\n",
    "%matplotlib inline"
   ]
  },
  {
   "cell_type": "code",
   "execution_count": null,
   "id": "conditional-trustee",
   "metadata": {},
   "outputs": [],
   "source": [
    "dat = pd.read_csv('data_splits/valmix/f1_scores_valmix_fold0.csv', header=None)"
   ]
  },
  {
   "cell_type": "code",
   "execution_count": null,
   "id": "approved-retrieval",
   "metadata": {},
   "outputs": [],
   "source": [
    "dat.columns = ['model', 'species', 'genic_f1', 'sub_genic_f1']\n"
   ]
  },
  {
   "cell_type": "code",
   "execution_count": null,
   "id": "concrete-soviet",
   "metadata": {},
   "outputs": [],
   "source": [
    "def to_set_fold(model_file):\n",
    "    stripped = model_file.replace('best_model_v_', '')\n",
    "    stripped = stripped.replace('.h5', '')\n",
    "    stripped = stripped.replace('_drop', '')\n",
    "    return stripped[:-1], int(stripped[-1])\n",
    "\n",
    "dat.loc[:, [\"valset\", \"fold\"]] = [to_set_fold(m) for m in dat.loc[:, \"model\"]]"
   ]
  },
  {
   "cell_type": "code",
   "execution_count": null,
   "id": "fatty-pasta",
   "metadata": {},
   "outputs": [],
   "source": [
    "plt.figure(figsize=(10,10))\n",
    "ax = sns.boxplot(x='valset', y='genic_f1', data=dat)\n",
    " \n",
    "ax = sns.swarmplot(x='valset', y='genic_f1', data=dat, hue=\"species\")\n",
    "ax.get_legend().remove()"
   ]
  },
  {
   "cell_type": "code",
   "execution_count": null,
   "id": "expensive-mixer",
   "metadata": {},
   "outputs": [],
   "source": [
    "pivotted = dat.pivot(columns='valset', index='species', values='genic_f1')"
   ]
  },
  {
   "cell_type": "code",
   "execution_count": null,
   "id": "western-engineering",
   "metadata": {},
   "outputs": [],
   "source": [
    "plt.bar(height=np.sort(pivotted['eval'] - pivotted['all']), x=range(pivotted.shape[0]))\n",
    "plt.ylabel(\"genic F1(eval - all)\")\n",
    "plt.xticks([])\n",
    "plt.xlabel(\"species, sorted\")"
   ]
  },
  {
   "cell_type": "code",
   "execution_count": null,
   "id": "sealed-jordan",
   "metadata": {},
   "outputs": [],
   "source": []
  }
 ],
 "metadata": {
  "kernelspec": {
   "display_name": "Python 3",
   "language": "python",
   "name": "python3"
  },
  "language_info": {
   "codemirror_mode": {
    "name": "ipython",
    "version": 3
   },
   "file_extension": ".py",
   "mimetype": "text/x-python",
   "name": "python",
   "nbconvert_exporter": "python",
   "pygments_lexer": "ipython3",
   "version": "3.8.10"
  }
 },
 "nbformat": 4,
 "nbformat_minor": 5
}

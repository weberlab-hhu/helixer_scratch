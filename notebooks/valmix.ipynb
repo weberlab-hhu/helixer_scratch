{
 "cells": [
  {
   "cell_type": "code",
   "execution_count": 1,
   "id": "saving-florence",
   "metadata": {},
   "outputs": [],
   "source": [
    "import matplotlib.pyplot as plt\n",
    "import matplotlib\n",
    "import numpy as np\n",
    "import pandas as pd\n",
    "import seaborn as sns\n",
    "import copy"
   ]
  },
  {
   "cell_type": "code",
   "execution_count": 2,
   "id": "boolean-hometown",
   "metadata": {},
   "outputs": [],
   "source": [
    "%config Completer.use_jedi = False\n",
    "%matplotlib inline"
   ]
  },
  {
   "cell_type": "code",
   "execution_count": 22,
   "id": "isolated-england",
   "metadata": {},
   "outputs": [],
   "source": [
    "def to_set_fold(model_file):\n",
    "    stripped = model_file.replace('best_model_v_', '')\n",
    "    stripped = stripped.replace('.h5', '')\n",
    "    stripped = stripped.replace('_drop', '')\n",
    "    return stripped[:-1], int(stripped[-1])"
   ]
  },
  {
   "cell_type": "code",
   "execution_count": 26,
   "id": "conditional-trustee",
   "metadata": {},
   "outputs": [],
   "source": [
    "dats = []\n",
    "for fold in range(4):\n",
    "    dat = pd.read_csv(f'data_splits/valmix/f1_scores_valmix_fold{fold}.csv', header=None)\n",
    "    dats.append(dat)"
   ]
  },
  {
   "cell_type": "code",
   "execution_count": 30,
   "id": "perceived-means",
   "metadata": {},
   "outputs": [],
   "source": [
    "dat = pd.concat(dats)"
   ]
  },
  {
   "cell_type": "code",
   "execution_count": 31,
   "id": "concrete-soviet",
   "metadata": {},
   "outputs": [],
   "source": [
    "\n",
    "dat.columns = ['model', 'species', 'genic_f1', 'sub_genic_f1']\n",
    "\n",
    "dat.loc[:, [\"valset\", \"fold\"]] = [to_set_fold(m) for m in dat.loc[:, \"model\"]]"
   ]
  },
  {
   "cell_type": "code",
   "execution_count": 46,
   "id": "endless-imaging",
   "metadata": {},
   "outputs": [
    {
     "data": {
      "text/html": [
       "<div>\n",
       "<style scoped>\n",
       "    .dataframe tbody tr th:only-of-type {\n",
       "        vertical-align: middle;\n",
       "    }\n",
       "\n",
       "    .dataframe tbody tr th {\n",
       "        vertical-align: top;\n",
       "    }\n",
       "\n",
       "    .dataframe thead th {\n",
       "        text-align: right;\n",
       "    }\n",
       "</style>\n",
       "<table border=\"1\" class=\"dataframe\">\n",
       "  <thead>\n",
       "    <tr style=\"text-align: right;\">\n",
       "      <th></th>\n",
       "      <th>model</th>\n",
       "      <th>species</th>\n",
       "      <th>genic_f1</th>\n",
       "      <th>sub_genic_f1</th>\n",
       "      <th>valset</th>\n",
       "      <th>fold</th>\n",
       "    </tr>\n",
       "  </thead>\n",
       "  <tbody>\n",
       "    <tr>\n",
       "      <th>17</th>\n",
       "      <td>best_model_v_all_drop0.h5</td>\n",
       "      <td>BrapaFPsc</td>\n",
       "      <td>0.8948</td>\n",
       "      <td>0.9101</td>\n",
       "      <td>all</td>\n",
       "      <td>0</td>\n",
       "    </tr>\n",
       "    <tr>\n",
       "      <th>45</th>\n",
       "      <td>best_model_v_train_drop0.h5</td>\n",
       "      <td>BrapaFPsc</td>\n",
       "      <td>0.8873</td>\n",
       "      <td>0.9115</td>\n",
       "      <td>train</td>\n",
       "      <td>0</td>\n",
       "    </tr>\n",
       "    <tr>\n",
       "      <th>46</th>\n",
       "      <td>best_model_v_eval_drop0.h5</td>\n",
       "      <td>BrapaFPsc</td>\n",
       "      <td>0.9142</td>\n",
       "      <td>0.9391</td>\n",
       "      <td>eval</td>\n",
       "      <td>0</td>\n",
       "    </tr>\n",
       "    <tr>\n",
       "      <th>4</th>\n",
       "      <td>best_model_v_train_drop0.h5</td>\n",
       "      <td>Carietinum</td>\n",
       "      <td>0.8318</td>\n",
       "      <td>0.8318</td>\n",
       "      <td>train</td>\n",
       "      <td>0</td>\n",
       "    </tr>\n",
       "    <tr>\n",
       "      <th>23</th>\n",
       "      <td>best_model_v_all_drop0.h5</td>\n",
       "      <td>Carietinum</td>\n",
       "      <td>0.8385</td>\n",
       "      <td>0.8385</td>\n",
       "      <td>all</td>\n",
       "      <td>0</td>\n",
       "    </tr>\n",
       "    <tr>\n",
       "      <th>...</th>\n",
       "      <td>...</td>\n",
       "      <td>...</td>\n",
       "      <td>...</td>\n",
       "      <td>...</td>\n",
       "      <td>...</td>\n",
       "      <td>...</td>\n",
       "    </tr>\n",
       "    <tr>\n",
       "      <th>30</th>\n",
       "      <td>best_model_v_eval_drop3.h5</td>\n",
       "      <td>Tcacao</td>\n",
       "      <td>0.8285</td>\n",
       "      <td>0.8821</td>\n",
       "      <td>eval</td>\n",
       "      <td>3</td>\n",
       "    </tr>\n",
       "    <tr>\n",
       "      <th>51</th>\n",
       "      <td>best_model_v_all_drop3.h5</td>\n",
       "      <td>Tcacao</td>\n",
       "      <td>0.8301</td>\n",
       "      <td>0.8690</td>\n",
       "      <td>all</td>\n",
       "      <td>3</td>\n",
       "    </tr>\n",
       "    <tr>\n",
       "      <th>23</th>\n",
       "      <td>best_model_v_all_drop3.h5</td>\n",
       "      <td>Vcarteri</td>\n",
       "      <td>0.6411</td>\n",
       "      <td>0.6784</td>\n",
       "      <td>all</td>\n",
       "      <td>3</td>\n",
       "    </tr>\n",
       "    <tr>\n",
       "      <th>35</th>\n",
       "      <td>best_model_v_eval_drop3.h5</td>\n",
       "      <td>Vcarteri</td>\n",
       "      <td>0.7413</td>\n",
       "      <td>0.7960</td>\n",
       "      <td>eval</td>\n",
       "      <td>3</td>\n",
       "    </tr>\n",
       "    <tr>\n",
       "      <th>40</th>\n",
       "      <td>best_model_v_train_drop3.h5</td>\n",
       "      <td>Vcarteri</td>\n",
       "      <td>0.6564</td>\n",
       "      <td>0.6902</td>\n",
       "      <td>train</td>\n",
       "      <td>3</td>\n",
       "    </tr>\n",
       "  </tbody>\n",
       "</table>\n",
       "<p>231 rows × 6 columns</p>\n",
       "</div>"
      ],
      "text/plain": [
       "                          model     species  genic_f1  sub_genic_f1 valset  \\\n",
       "17    best_model_v_all_drop0.h5   BrapaFPsc    0.8948        0.9101    all   \n",
       "45  best_model_v_train_drop0.h5   BrapaFPsc    0.8873        0.9115  train   \n",
       "46   best_model_v_eval_drop0.h5   BrapaFPsc    0.9142        0.9391   eval   \n",
       "4   best_model_v_train_drop0.h5  Carietinum    0.8318        0.8318  train   \n",
       "23    best_model_v_all_drop0.h5  Carietinum    0.8385        0.8385    all   \n",
       "..                          ...         ...       ...           ...    ...   \n",
       "30   best_model_v_eval_drop3.h5      Tcacao    0.8285        0.8821   eval   \n",
       "51    best_model_v_all_drop3.h5      Tcacao    0.8301        0.8690    all   \n",
       "23    best_model_v_all_drop3.h5    Vcarteri    0.6411        0.6784    all   \n",
       "35   best_model_v_eval_drop3.h5    Vcarteri    0.7413        0.7960   eval   \n",
       "40  best_model_v_train_drop3.h5    Vcarteri    0.6564        0.6902  train   \n",
       "\n",
       "    fold  \n",
       "17     0  \n",
       "45     0  \n",
       "46     0  \n",
       "4      0  \n",
       "23     0  \n",
       "..   ...  \n",
       "30     3  \n",
       "51     3  \n",
       "23     3  \n",
       "35     3  \n",
       "40     3  \n",
       "\n",
       "[231 rows x 6 columns]"
      ]
     },
     "execution_count": 46,
     "metadata": {},
     "output_type": "execute_result"
    }
   ],
   "source": [
    "#dat.sort_values(by=['fold', 'species'], ascending=True)"
   ]
  },
  {
   "cell_type": "code",
   "execution_count": 47,
   "id": "fatty-pasta",
   "metadata": {},
   "outputs": [
    {
     "data": {
      "image/png": "[encoded data removed]",
      "text/plain": [
       "<Figure size 720x720 with 1 Axes>"
      ]
     },
     "metadata": {
      "needs_background": "light"
     },
     "output_type": "display_data"
    }
   ],
   "source": [
    "plt.figure(figsize=(10,10))\n",
    "ax = sns.boxplot(x='valset', y='genic_f1', data=dat)\n",
    " \n",
    "ax = sns.swarmplot(x='valset', y='genic_f1', data=dat, hue=\"species\")\n",
    "ax.get_legend().remove()"
   ]
  },
  {
   "cell_type": "code",
   "execution_count": 40,
   "id": "mathematical-venue",
   "metadata": {},
   "outputs": [
    {
     "data": {
      "image/png": "[encoded data removed]",
      "text/plain": [
       "<Figure size 720x720 with 1 Axes>"
      ]
     },
     "metadata": {
      "needs_background": "light"
     },
     "output_type": "display_data"
    }
   ],
   "source": [
    "plt.figure(figsize=(10,10))\n",
    "ax = sns.boxplot(x='fold', hue='valset', y='genic_f1', data=dat)\n",
    " \n",
    "#ax = sns.swarmplot(x='valset', y='genic_f1', data=dat, hue=\"species\")\n",
    "#ax.get_legend().remove()"
   ]
  },
  {
   "cell_type": "code",
   "execution_count": 62,
   "id": "expensive-mixer",
   "metadata": {},
   "outputs": [],
   "source": [
    "pivotted = dat.pivot(columns='valset', index=['species', 'fold'], values='genic_f1')"
   ]
  },
  {
   "cell_type": "code",
   "execution_count": 63,
   "id": "western-engineering",
   "metadata": {},
   "outputs": [
    {
     "data": {
      "text/plain": [
       "Text(0.5, 0, 'species, sorted')"
      ]
     },
     "execution_count": 63,
     "metadata": {},
     "output_type": "execute_result"
    },
    {
     "data": {
      "image/png": "[encoded data removed]",
      "text/plain": [
       "<Figure size 432x288 with 1 Axes>"
      ]
     },
     "metadata": {
      "needs_background": "light"
     },
     "output_type": "display_data"
    }
   ],
   "source": [
    "plt.bar(height=np.sort(pivotted['eval'] - pivotted['all']), x=range(pivotted.shape[0]))\n",
    "plt.ylabel(\"genic F1(eval - all)\")\n",
    "plt.xticks([])\n",
    "plt.xlabel(\"species, sorted\")"
   ]
  },
  {
   "cell_type": "code",
   "execution_count": 90,
   "id": "sealed-jordan",
   "metadata": {},
   "outputs": [
    {
     "data": {
      "text/plain": [
       "Text(0.5, 0, 'species, sorted')"
      ]
     },
     "execution_count": 90,
     "metadata": {},
     "output_type": "execute_result"
    },
    {
     "data": {
      "image/png": "[encoded data removed]",
      "text/plain": [
       "<Figure size 432x288 with 1 Axes>"
      ]
     },
     "metadata": {
      "needs_background": "light"
     },
     "output_type": "display_data"
    }
   ],
   "source": [
    "mycol = np.array([['#5D8AA8', '#D3212D', '#5D8AA8', '#5D8AA8'][x[1]] for x in pivotted.index])\n",
    "differences = pivotted['eval'] - pivotted['train']\n",
    "plt.bar(height=np.sort(differences), x=range(pivotted.shape[0]), \n",
    "        color=mycol[np.argsort(np.array(differences))])\n",
    "plt.ylabel(\"genic F1(eval - all)\")\n",
    "plt.xticks([])\n",
    "plt.xlabel(\"species, sorted\")"
   ]
  },
  {
   "cell_type": "code",
   "execution_count": 95,
   "id": "sustainable-server",
   "metadata": {},
   "outputs": [
    {
     "data": {
      "text/plain": [
       "species       fold\n",
       "Creinhardtii  1      -0.1947\n",
       "Dsalina       3      -0.1516\n",
       "Hannuus       1      -0.1065\n",
       "Aofficinalis  1      -0.1022\n",
       "Ncolorata     1      -0.0595\n",
       "Atrichopoda   2      -0.0572\n",
       "Vunguiculata  1      -0.0392\n",
       "Sbicolor      1      -0.0312\n",
       "Tpratense     1      -0.0310\n",
       "Oeuropaea     1      -0.0268\n",
       "Gsoja         1      -0.0257\n",
       "Osativa       1      -0.0257\n",
       "Stuberosum    1      -0.0214\n",
       "Dcarota       1      -0.0204\n",
       "Graimondii    1      -0.0198\n",
       "Bhybridum     1      -0.0176\n",
       "Sitalica      1      -0.0161\n",
       "Athaliana     3      -0.0135\n",
       "Acomosus      2      -0.0134\n",
       "Fvesca        3      -0.0120\n",
       "dtype: float64"
      ]
     },
     "execution_count": 95,
     "metadata": {},
     "output_type": "execute_result"
    }
   ],
   "source": [
    "differences[np.argsort(np.array(differences))][:20]\n"
   ]
  },
  {
   "cell_type": "code",
   "execution_count": 58,
   "id": "sized-military",
   "metadata": {},
   "outputs": [
    {
     "data": {
      "text/plain": [
       "Text(0.5, 0, 'species, sorted')"
      ]
     },
     "execution_count": 58,
     "metadata": {},
     "output_type": "execute_result"
    },
    {
     "data": {
      "image/png": "[encoded data removed]",
      "text/plain": [
       "<Figure size 432x288 with 1 Axes>"
      ]
     },
     "metadata": {
      "needs_background": "light"
     },
     "output_type": "display_data"
    }
   ],
   "source": [
    "subdat = dat.loc[[x in [0, 2, 3] for x in dat.loc[:,'fold']], :]\n",
    "pivotted = subdat.pivot(columns='valset', index='species', values='genic_f1')\n",
    "plt.bar(height=np.sort(pivotted['eval'] - pivotted['train']), x=range(pivotted.shape[0]))\n",
    "plt.ylabel(\"genic F1(eval - all)\")\n",
    "plt.xticks([])\n",
    "plt.xlabel(\"species, sorted\")"
   ]
  },
  {
   "cell_type": "code",
   "execution_count": 59,
   "id": "proved-family",
   "metadata": {},
   "outputs": [
    {
     "data": {
      "text/plain": [
       "Text(0.5, 0, 'species, sorted')"
      ]
     },
     "execution_count": 59,
     "metadata": {},
     "output_type": "execute_result"
    },
    {
     "data": {
      "image/png": "[encoded data removed]",
      "text/plain": [
       "<Figure size 432x288 with 1 Axes>"
      ]
     },
     "metadata": {
      "needs_background": "light"
     },
     "output_type": "display_data"
    }
   ],
   "source": [
    "subdat = dat.loc[[x in [1] for x in dat.loc[:,'fold']], :]\n",
    "pivotted = subdat.pivot(columns='valset', index='species', values='genic_f1')\n",
    "plt.bar(height=np.sort(pivotted['eval'] - pivotted['train']), x=range(pivotted.shape[0]))\n",
    "plt.ylabel(\"genic F1(eval - all)\")\n",
    "plt.xticks([])\n",
    "plt.xlabel(\"species, sorted\")"
   ]
  },
  {
   "cell_type": "code",
   "execution_count": 57,
   "id": "august-detection",
   "metadata": {},
   "outputs": [
    {
     "data": {
      "text/plain": [
       "Text(0.5, 0, 'species, sorted')"
      ]
     },
     "execution_count": 57,
     "metadata": {},
     "output_type": "execute_result"
    },
    {
     "data": {
      "image/png": "[encoded data removed]",
      "text/plain": [
       "<Figure size 432x288 with 1 Axes>"
      ]
     },
     "metadata": {
      "needs_background": "light"
     },
     "output_type": "display_data"
    }
   ],
   "source": []
  },
  {
   "cell_type": "code",
   "execution_count": 91,
   "id": "wrapped-michael",
   "metadata": {},
   "outputs": [],
   "source": [
    "epochs = pd.read_csv('data_splits/valmix/epochs_to_best.csv')"
   ]
  },
  {
   "cell_type": "code",
   "execution_count": 92,
   "id": "original-complexity",
   "metadata": {},
   "outputs": [
    {
     "data": {
      "text/html": [
       "<div>\n",
       "<style scoped>\n",
       "    .dataframe tbody tr th:only-of-type {\n",
       "        vertical-align: middle;\n",
       "    }\n",
       "\n",
       "    .dataframe tbody tr th {\n",
       "        vertical-align: top;\n",
       "    }\n",
       "\n",
       "    .dataframe thead th {\n",
       "        text-align: right;\n",
       "    }\n",
       "</style>\n",
       "<table border=\"1\" class=\"dataframe\">\n",
       "  <thead>\n",
       "    <tr style=\"text-align: right;\">\n",
       "      <th></th>\n",
       "      <th>fold</th>\n",
       "      <th>set</th>\n",
       "      <th>epoch</th>\n",
       "      <th>hash</th>\n",
       "    </tr>\n",
       "  </thead>\n",
       "  <tbody>\n",
       "    <tr>\n",
       "      <th>0</th>\n",
       "      <td>0</td>\n",
       "      <td>eval</td>\n",
       "      <td>5</td>\n",
       "      <td>VtzmK</td>\n",
       "    </tr>\n",
       "    <tr>\n",
       "      <th>1</th>\n",
       "      <td>0</td>\n",
       "      <td>train</td>\n",
       "      <td>12</td>\n",
       "      <td>iuc5a</td>\n",
       "    </tr>\n",
       "    <tr>\n",
       "      <th>2</th>\n",
       "      <td>0</td>\n",
       "      <td>all</td>\n",
       "      <td>3</td>\n",
       "      <td>IIAEQ</td>\n",
       "    </tr>\n",
       "    <tr>\n",
       "      <th>3</th>\n",
       "      <td>1</td>\n",
       "      <td>eval</td>\n",
       "      <td>2</td>\n",
       "      <td>lLBLH</td>\n",
       "    </tr>\n",
       "    <tr>\n",
       "      <th>4</th>\n",
       "      <td>1</td>\n",
       "      <td>train</td>\n",
       "      <td>5</td>\n",
       "      <td>l3awM</td>\n",
       "    </tr>\n",
       "    <tr>\n",
       "      <th>5</th>\n",
       "      <td>1</td>\n",
       "      <td>all</td>\n",
       "      <td>4</td>\n",
       "      <td>qaxts</td>\n",
       "    </tr>\n",
       "    <tr>\n",
       "      <th>6</th>\n",
       "      <td>2</td>\n",
       "      <td>eval</td>\n",
       "      <td>3</td>\n",
       "      <td>z1xSi</td>\n",
       "    </tr>\n",
       "    <tr>\n",
       "      <th>7</th>\n",
       "      <td>2</td>\n",
       "      <td>train</td>\n",
       "      <td>7</td>\n",
       "      <td>IyHi3</td>\n",
       "    </tr>\n",
       "    <tr>\n",
       "      <th>8</th>\n",
       "      <td>2</td>\n",
       "      <td>all</td>\n",
       "      <td>9</td>\n",
       "      <td>dv1rx</td>\n",
       "    </tr>\n",
       "    <tr>\n",
       "      <th>9</th>\n",
       "      <td>3</td>\n",
       "      <td>eval</td>\n",
       "      <td>2</td>\n",
       "      <td>mlXSZ</td>\n",
       "    </tr>\n",
       "    <tr>\n",
       "      <th>10</th>\n",
       "      <td>3</td>\n",
       "      <td>train</td>\n",
       "      <td>4</td>\n",
       "      <td>RPUyo</td>\n",
       "    </tr>\n",
       "    <tr>\n",
       "      <th>11</th>\n",
       "      <td>3</td>\n",
       "      <td>all</td>\n",
       "      <td>6</td>\n",
       "      <td>yqqAb</td>\n",
       "    </tr>\n",
       "  </tbody>\n",
       "</table>\n",
       "</div>"
      ],
      "text/plain": [
       "    fold    set  epoch   hash\n",
       "0      0   eval      5  VtzmK\n",
       "1      0  train     12  iuc5a\n",
       "2      0    all      3  IIAEQ\n",
       "3      1   eval      2  lLBLH\n",
       "4      1  train      5  l3awM\n",
       "5      1    all      4  qaxts\n",
       "6      2   eval      3  z1xSi\n",
       "7      2  train      7  IyHi3\n",
       "8      2    all      9  dv1rx\n",
       "9      3   eval      2  mlXSZ\n",
       "10     3  train      4  RPUyo\n",
       "11     3    all      6  yqqAb"
      ]
     },
     "execution_count": 92,
     "metadata": {},
     "output_type": "execute_result"
    }
   ],
   "source": [
    "epochs"
   ]
  },
  {
   "cell_type": "code",
   "execution_count": null,
   "id": "given-singles",
   "metadata": {},
   "outputs": [],
   "source": []
  }
 ],
 "metadata": {
  "kernelspec": {
   "display_name": "Python 3",
   "language": "python",
   "name": "python3"
  },
  "language_info": {
   "codemirror_mode": {
    "name": "ipython",
    "version": 3
   },
   "file_extension": ".py",
   "mimetype": "text/x-python",
   "name": "python",
   "nbconvert_exporter": "python",
   "pygments_lexer": "ipython3",
   "version": "3.8.10"
  }
 },
 "nbformat": 4,
 "nbformat_minor": 5
}

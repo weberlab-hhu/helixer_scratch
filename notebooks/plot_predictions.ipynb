{
 "cells": [
  {
   "cell_type": "code",
   "execution_count": 1,
   "id": "limited-wiring",
   "metadata": {},
   "outputs": [],
   "source": [
    "import h5py\n",
    "import numpy as np\n",
    "import matplotlib.pyplot as plt\n",
    "from matplotlib import colors\n",
    "import seaborn as sns"
   ]
  },
  {
   "cell_type": "code",
   "execution_count": 2,
   "id": "major-james",
   "metadata": {},
   "outputs": [],
   "source": [
    "def _zero_out_utrs(y):\n",
    "    # copied from HelixerSequence due to an import error\n",
    "    y[..., 0] = np.logical_or(y[..., 0], y[..., 1])\n",
    "    y[..., 1] = 0"
   ]
  },
  {
   "cell_type": "code",
   "execution_count": 3,
   "id": "patient-hamburg",
   "metadata": {},
   "outputs": [],
   "source": [
    "def cross_entropy(y_true, y_pred):\n",
    "    true_class_preds = y_pred[y_true.astype(np.bool)]\n",
    "    losses = -np.log(true_class_preds)\n",
    "    return losses"
   ]
  },
  {
   "cell_type": "code",
   "execution_count": 4,
   "id": "pointed-engine",
   "metadata": {},
   "outputs": [],
   "source": [
    "def dna_sequence(y):\n",
    "    letters = 'CATG'\n",
    "    sequence = ''.join([letters[idx] for idx in np.nonzero(y)[1]])\n",
    "    return sequence"
   ]
  },
  {
   "cell_type": "code",
   "execution_count": 6,
   "id": "blind-liechtenstein",
   "metadata": {},
   "outputs": [],
   "source": [
    "f = h5py.File('/home/felix/Desktop/helixer/data/plants/nine_genomes_nosplit_tmp/training_data.h5', 'r')\n",
    "# p = h5py.File('/home/felix/Desktop/x9HyB_Crubella_predictions.h5', 'r')\n",
    "# d = h5py.File('/home/felix/git/HelixerPrep/data/plants/single_genomes/Crubella/test_data.h5', 'r')"
   ]
  },
  {
   "cell_type": "code",
   "execution_count": 29,
   "id": "recreational-madrid",
   "metadata": {},
   "outputs": [
    {
     "name": "stdout",
     "output_type": "stream",
     "text": [
      "X.shape=(413641, 20000, 4), y_true.shape=(413641, 20000, 4), y_pred.shape=(1, 413641, 20000, 4), sw.shape=(413641, 20000)\n"
     ]
    }
   ],
   "source": [
    "X = f['data/X']\n",
    "y_true = f['data/y']\n",
    "y_pred = f['data/predictions']\n",
    "sw = f['data/sample_weights']\n",
    "seqids = f['data/seqids'][:]\n",
    "species = f['data/species'][:]\n",
    "start_ends = f['data/start_ends'][:]\n",
    "print(f'{X.shape=}, {y_true.shape=}, {y_pred.shape=}, {sw.shape=}')"
   ]
  },
  {
   "cell_type": "code",
   "execution_count": 9,
   "id": "young-switch",
   "metadata": {},
   "outputs": [
    {
     "name": "stdout",
     "output_type": "stream",
     "text": [
      "calculated losses for offset 10000 / 413641\n",
      "calculated losses for offset 20000 / 413641\n",
      "calculated losses for offset 30000 / 413641\n",
      "calculated losses for offset 40000 / 413641\n",
      "calculated losses for offset 50000 / 413641\n",
      "calculated losses for offset 60000 / 413641\n",
      "calculated losses for offset 70000 / 413641\n",
      "calculated losses for offset 80000 / 413641\n",
      "calculated losses for offset 90000 / 413641\n",
      "calculated losses for offset 100000 / 413641\n",
      "calculated losses for offset 110000 / 413641\n",
      "calculated losses for offset 120000 / 413641\n",
      "calculated losses for offset 130000 / 413641\n",
      "calculated losses for offset 140000 / 413641\n",
      "calculated losses for offset 150000 / 413641\n",
      "calculated losses for offset 160000 / 413641\n",
      "calculated losses for offset 170000 / 413641\n",
      "calculated losses for offset 180000 / 413641\n",
      "calculated losses for offset 190000 / 413641\n",
      "calculated losses for offset 200000 / 413641\n",
      "calculated losses for offset 210000 / 413641\n",
      "calculated losses for offset 220000 / 413641\n",
      "calculated losses for offset 230000 / 413641\n",
      "calculated losses for offset 240000 / 413641\n",
      "calculated losses for offset 250000 / 413641\n",
      "calculated losses for offset 260000 / 413641\n",
      "calculated losses for offset 270000 / 413641\n",
      "calculated losses for offset 280000 / 413641\n",
      "calculated losses for offset 290000 / 413641\n",
      "calculated losses for offset 300000 / 413641\n",
      "calculated losses for offset 310000 / 413641\n",
      "calculated losses for offset 320000 / 413641\n",
      "calculated losses for offset 330000 / 413641\n",
      "calculated losses for offset 340000 / 413641\n",
      "calculated losses for offset 350000 / 413641\n",
      "calculated losses for offset 360000 / 413641\n",
      "calculated losses for offset 370000 / 413641\n",
      "calculated losses for offset 380000 / 413641\n",
      "calculated losses for offset 390000 / 413641\n",
      "calculated losses for offset 400000 / 413641\n",
      "calculated losses for offset 410000 / 413641\n",
      "calculated losses for offset 420000 / 413641\n"
     ]
    }
   ],
   "source": [
    "losses = np.zeros(y_true.shape[0], dtype=np.float32)\n",
    "frac_sw = np.zeros(y_true.shape[0], dtype=np.float32)  # fraction of sample weights in non-padding regions\n",
    "chunk_size = 10000\n",
    "for offset in range(0, y_true.shape[0], chunk_size):\n",
    "    chunk_slice = slice(offset, offset + chunk_size)\n",
    "    y_true_chunk, y_pred_chunk, sw_chunk = y_true[chunk_slice], y_pred[0, chunk_slice], sw[chunk_slice]\n",
    "    \n",
    "    # remove utr column\n",
    "    _zero_out_utrs(y_true_chunk)\n",
    "    y_true_chunk = np.delete(y_true_chunk, 1, axis=-1)\n",
    "    y_pred_chunk = np.delete(y_pred_chunk, 1, axis=-1)\n",
    "    \n",
    "    # calculate losses for each sample individually due to padding\n",
    "    # sample weights are not taken into account\n",
    "    for i in range(len(y_true_chunk)):\n",
    "        y_true_sample, y_pred_sample, sw_sample = y_true_chunk[i], y_pred_chunk[i], sw_chunk[i]\n",
    "        losses[offset + i] = np.mean(cross_entropy(y_true_sample, y_pred_sample))\n",
    "        n_genetic_bases = np.count_nonzero(y_true_sample)\n",
    "        frac_sw[offset + i] = 1 - (np.count_nonzero(sw_sample) / n_genetic_bases)\n",
    "    print(f'calculated losses for offset {offset + chunk_size} / {y_true.shape[0]}')"
   ]
  },
  {
   "cell_type": "code",
   "execution_count": 83,
   "id": "periodic-cruise",
   "metadata": {},
   "outputs": [
    {
     "name": "stdout",
     "output_type": "stream",
     "text": [
      "[b'Athaliana' b'Bdistachyon' b'Creinhardtii' b'Gmax' b'Mguttatus'\n",
      " b'Mpolymorpha' b'Ptrichocarpa' b'Sitalica' b'Zmays']\n",
      "b'Athaliana' 11160\n",
      "b'Bdistachyon' 25984\n",
      "b'Creinhardtii' 11164\n",
      "b'Gmax' 88910\n",
      "b'Mguttatus' 26081\n",
      "b'Mpolymorpha' 21568\n",
      "b'Ptrichocarpa' 39486\n",
      "b'Sitalica' 35661\n",
      "b'Zmays' 153627\n"
     ]
    }
   ],
   "source": [
    "unique_species = np.unique(species)\n",
    "print(unique_species)\n",
    "\n",
    "loss_idxs = {}\n",
    "loss_idxs['all'] = np.argsort(losses)\n",
    "for name in unique_species:\n",
    "    species_idx = np.argwhere(species == name).ravel()\n",
    "    loss_idxs[name.decode()] = [i for i in loss_idxs['all'] if i in species_idx]\n",
    "    print(name, len(loss_idxs[name.decode()]))"
   ]
  },
  {
   "cell_type": "code",
   "execution_count": 24,
   "id": "outer-adapter",
   "metadata": {},
   "outputs": [],
   "source": [
    "# sample weight color map\n",
    "cmap = colors.ListedColormap(['red', 'white'])\n",
    "bounds=[0, 0.5, 1.0]\n",
    "norm = colors.BoundaryNorm(bounds, cmap.N)"
   ]
  },
  {
   "cell_type": "code",
   "execution_count": 82,
   "id": "veterinary-costume",
   "metadata": {},
   "outputs": [
    {
     "data": {
      "text/plain": [
       "<AxesSubplot:>"
      ]
     },
     "execution_count": 82,
     "metadata": {},
     "output_type": "execute_result"
    },
    {
     "data": {
      "image/png": "[encoded data removed]",
      "text/plain": [
       "<Figure size 2160x720 with 3 Axes>"
      ]
     },
     "metadata": {
      "needs_background": "light"
     },
     "output_type": "display_data"
    }
   ],
   "source": [
    "species_name = 'Gmax'\n",
    "idx = loss_idxs[species_name][-(np.random.randint(100 + 1))]  # choose sample from the 1000 with the highest loss\n",
    "fig, axes = plt.subplots(3, figsize=(30, 10), sharex=True, gridspec_kw={'height_ratios': [3, 3, 1]})\n",
    "axes[0].set_title(f'{species[idx].decode()} - {seqids[idx].decode()} - {start_ends[idx]} - idx: {idx} - loss: {losses[idx]:.4f} - sw: {frac_sw[idx]:.2f}')\n",
    "sns.heatmap(y_true[idx].T, cbar=False, cmap='Blues', ax=axes[0])\n",
    "sns.heatmap(y_pred[0, idx].T, cbar=False, cmap='Blues', ax=axes[1])\n",
    "sns.heatmap(sw[idx][:, None].T, cbar=False, cmap=cmap, norm=norm, ax=axes[2])"
   ]
  },
  {
   "cell_type": "code",
   "execution_count": 26,
   "id": "natural-roberts",
   "metadata": {},
   "outputs": [
    {
     "name": "stdout",
     "output_type": "stream",
     "text": [
      "352056\n"
     ]
    }
   ],
   "source": [
    "dna_sequence(X[idx][4200:14000])\n",
    "print(idx)"
   ]
  },
  {
   "cell_type": "code",
   "execution_count": null,
   "id": "centered-locator",
   "metadata": {},
   "outputs": [],
   "source": []
  }
 ],
 "metadata": {
  "kernelspec": {
   "display_name": "Python [conda env:root] *",
   "language": "python",
   "name": "conda-root-py"
  },
  "language_info": {
   "codemirror_mode": {
    "name": "ipython",
    "version": 3
   },
   "file_extension": ".py",
   "mimetype": "text/x-python",
   "name": "python",
   "nbconvert_exporter": "python",
   "pygments_lexer": "ipython3",
   "version": "3.8.5"
  }
 },
 "nbformat": 4,
 "nbformat_minor": 5
}

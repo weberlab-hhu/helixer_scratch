{
 "cells": [
  {
   "cell_type": "code",
   "execution_count": null,
   "metadata": {},
   "outputs": [],
   "source": [
    "import matplotlib.pyplot as plt\n",
    "import numpy as np\n",
    "import pandas as pd\n",
    "import seaborn as sns\n",
    "import copy"
   ]
  },
  {
   "cell_type": "code",
   "execution_count": null,
   "metadata": {},
   "outputs": [],
   "source": [
    "%config Completer.use_jedi = False\n",
    "%matplotlib inline"
   ]
  },
  {
   "cell_type": "code",
   "execution_count": null,
   "metadata": {},
   "outputs": [],
   "source": [
    "pd.set_option('display.max_colwidth', 500)\n",
    "pd.set_option('display.max_columns', 7)"
   ]
  },
  {
   "cell_type": "code",
   "execution_count": null,
   "metadata": {},
   "outputs": [],
   "source": [
    "df_meta = pd.read_csv('metadata_plants.csv')"
   ]
  },
  {
   "cell_type": "code",
   "execution_count": null,
   "metadata": {},
   "outputs": [],
   "source": [
    "df_meta.head()\n",
    "# Alyrata  Csativus  Macuminata  Ppatens  Taestivum  Vcarteri\n",
    "# remove test genomes\n",
    "df_plants = df_meta[~df_meta['species'].isin(['Alyrata','Csativus','Macuminata','Ppatens',\n",
    "                                              'Taestivum','Vcarteri'])].reset_index(drop=True)\n",
    "\n"
   ]
  },
  {
   "cell_type": "code",
   "execution_count": null,
   "metadata": {},
   "outputs": [],
   "source": [
    "np.random.seed(11345)\n",
    "x = np.repeat(range(6), 9)\n",
    "np.random.shuffle(x)\n",
    "x"
   ]
  },
  {
   "cell_type": "code",
   "execution_count": null,
   "metadata": {},
   "outputs": [],
   "source": [
    "df_plants.loc[:,\"random_split\"] = x"
   ]
  },
  {
   "cell_type": "code",
   "execution_count": null,
   "metadata": {},
   "outputs": [],
   "source": [
    "df_plants.loc[:,\"length_split\"] = -1"
   ]
  },
  {
   "cell_type": "code",
   "execution_count": null,
   "metadata": {},
   "outputs": [],
   "source": [
    "df_plants.head()"
   ]
  },
  {
   "cell_type": "code",
   "execution_count": null,
   "metadata": {
    "scrolled": true
   },
   "outputs": [],
   "source": [
    "for i, split in zip(np.argsort(df_plants.loc[:, \"total_len\"]), np.repeat(range(6), 9)):\n",
    "    df_plants.loc[i,\"length_split\"] = split"
   ]
  },
  {
   "cell_type": "code",
   "execution_count": null,
   "metadata": {},
   "outputs": [],
   "source": [
    "df_plants.loc[:,\"gc_split\"] = -1"
   ]
  },
  {
   "cell_type": "code",
   "execution_count": null,
   "metadata": {},
   "outputs": [],
   "source": [
    "x2 = df_plants.loc[:,\"C\"] / (df_plants.loc[:,\"A\"] + df_plants.loc[:,\"C\"])"
   ]
  },
  {
   "cell_type": "code",
   "execution_count": null,
   "metadata": {},
   "outputs": [],
   "source": [
    "for i, split in zip(np.argsort(x2), np.repeat(range(6), 9)):\n",
    "    df_plants.loc[i,\"gc_split\"] = split"
   ]
  },
  {
   "cell_type": "code",
   "execution_count": null,
   "metadata": {},
   "outputs": [],
   "source": [
    "df_plants.loc[df_plants.loc[:, \"random_split\"] == 1, \"species\"]"
   ]
  },
  {
   "cell_type": "code",
   "execution_count": null,
   "metadata": {},
   "outputs": [],
   "source": [
    "df_plants.loc[df_plants.loc[:, \"length_split\"] == 1, \"species\"]"
   ]
  },
  {
   "cell_type": "code",
   "execution_count": null,
   "metadata": {},
   "outputs": [],
   "source": [
    "# and now for the phylogenetic split\n",
    "remaining = list(df_plants['species'])\n",
    "green_algae = ['Dsalina', 'Creinhardtii', 'Czofingiensis', 'MpusillaCCMP1545', 'MpusillaRCC299',\n",
    "               'Olucimarinus', 'CsubellipsoideaC169']\n",
    "remaining = [x for x in remaining if x not in green_algae]\n",
    "monocots = ['Hvulgare', 'Bdistachyon', 'Osativa', 'Sbicolor', 'Zmays', 'Sitalica', 'Othomaeum', 'Acomosus',\n",
    "            'Aofficinalis', 'Zmarina', 'Spolyrhiza']\n",
    "remaining = [x for x in remaining if x not in monocots]\n",
    "\n",
    "asterids = ['Hannuus', 'Lsativa', 'Dcarota', 'Mguttatus', 'Oeuropaea', 'Stuberosum',\n",
    "            'Slycopersicum']\n",
    "remaining = [x for x in remaining if x not in asterids]\n",
    "fabids = ['Mesculenta', 'Rcommunis', 'Lusitatissimum', 'Ptrichocarpa', 'Mdomestica', 'Ppersica',\n",
    "          'Fvesca', 'Mtruncatula', 'Carietinum', 'Gmax']\n",
    "remaining = [x for x in remaining if x not in fabids]\n",
    "malvids = ['Athaliana', 'Crubella', 'Cgrandiflora', 'Esalsugineum', 'Cpapaya', 'Graimondii', 'Csinensis',\n",
    "           'Cclementina', 'Egrandis', 'Tcacao', 'Boleraceacapitata']\n",
    "remaining = [x for x in remaining if x not in malvids]\n",
    "\n",
    "remaining\n",
    "df_plants.loc[:, 'phylo_split'] = 5"
   ]
  },
  {
   "cell_type": "code",
   "execution_count": null,
   "metadata": {},
   "outputs": [],
   "source": [
    "df_plants.loc[[x in green_algae for x in df_plants.loc[:, \"species\"]], 'phylo_split'] = 0\n",
    "df_plants.loc[[x in monocots for x in df_plants.loc[:, \"species\"]], 'phylo_split'] = 1\n",
    "df_plants.loc[[x in asterids for x in df_plants.loc[:, \"species\"]], 'phylo_split'] = 2\n",
    "df_plants.loc[[x in fabids for x in df_plants.loc[:, \"species\"]], 'phylo_split'] = 3\n",
    "df_plants.loc[[x in malvids for x in df_plants.loc[:, \"species\"]], 'phylo_split'] = 4\n",
    "\n",
    "\n"
   ]
  },
  {
   "cell_type": "code",
   "execution_count": null,
   "metadata": {},
   "outputs": [],
   "source": [
    "def mk_bash_denbi(outdir, species):\n",
    "    template = \"\"\"\n",
    "pfx=/mnt/share/ubuntu/data/plants/single_genomes/\n",
    "outdir={}\n",
    "\n",
    "mkdir -p $outdir\n",
    "python /mnt/share/ubuntu/repos/github/weberlab-hhu/helixer_scratch/data_scripts/merge-files.py \\\\\n",
    "        --input-files {} \\\\\n",
    "        --output-file $outdir/training_data.h5\n",
    "cd $outdir\n",
    "ln -s ../../eight_genomes_nosplit_phase/validation_data.h5\n",
    "cd ..\n",
    "\"\"\"\n",
    "    \n",
    "    one_path = \"$pfx/{}/test_data.h5\"\n",
    "    sp_paths = [one_path.format(sp) for sp in species]\n",
    "    return template.format(outdir, ' '.join(sp_paths))"
   ]
  },
  {
   "cell_type": "code",
   "execution_count": null,
   "metadata": {},
   "outputs": [],
   "source": [
    "print(mk_bash_denbi('gc3', df_plants.loc[df_plants.loc[:, \"gc_split\"] == 3, \"species\"]))"
   ]
  },
  {
   "cell_type": "code",
   "execution_count": null,
   "metadata": {},
   "outputs": [],
   "source": [
    "print(mk_bash_denbi('length5', df_plants.loc[df_plants.loc[:, \"length_split\"] == 5, \"species\"]))"
   ]
  },
  {
   "cell_type": "code",
   "execution_count": null,
   "metadata": {},
   "outputs": [],
   "source": [
    "print(mk_bash_denbi('phylo5', df_plants.loc[df_plants.loc[:, \"phylo_split\"] == 5, \"species\"]))"
   ]
  },
  {
   "cell_type": "code",
   "execution_count": null,
   "metadata": {},
   "outputs": [],
   "source": [
    "df_plants.loc[:, ['species', 'random_split',\n",
    "       'length_split', 'gc_split', 'phylo_split']].to_csv('rabbit_splits.csv', index=False)"
   ]
  },
  {
   "cell_type": "code",
   "execution_count": null,
   "metadata": {},
   "outputs": [],
   "source": [
    "def mergy_plotty(key, sort_by):\n",
    "    # mergy\n",
    "    gc_res = pd.read_csv(f'data_splits/f1_{key}.csv', header=None)\n",
    "    gc_res.columns = ['model', 'species', 'sub_genic_f1', 'genic_f1']\n",
    "    gc_preview = gc_res.pivot(columns='model', index='species', values='genic_f1')\n",
    "    indis = gc_preview.index.to_list()\n",
    "    indis = [x if (x != 'MspRCC299') else \"MpusillaRCC299\" for x in indis]\n",
    "    gc_preview.index = indis\n",
    "    x = df_plants.merge(gc_preview, left_on='species', right_index=True, how='left')\n",
    "    indexes = np.argsort(x[sort_by])\n",
    "    trainers = np.eye(6)[x[f'{key}_split']]\n",
    "    \n",
    "    # stat\n",
    "    print(np.median(x.iloc[indexes, 57:63]))\n",
    "    \n",
    "    # plotty\n",
    "    fig, (ax, bx) = plt.subplots(1,2, figsize=(4,14))\n",
    "    fig.suptitle(f'{key}, sort {sort_by}', fontsize=20, y=0.93)\n",
    "    y_label_list = x.loc[:,'species'][indexes]\n",
    "\n",
    "    ax.imshow(trainers[indexes], aspect='auto', \n",
    "               interpolation='none')\n",
    "    ax.set_yticks(range(54))\n",
    "    ax.set_yticklabels(y_label_list)\n",
    "    ax.set_xticks(range(6))\n",
    "    ax.set_xlabel('split')\n",
    "\n",
    "    img = bx.imshow(x.iloc[indexes, 57:63], aspect='auto', \n",
    "               interpolation='none')\n",
    "    bx.set_xticks(range(6))\n",
    "    bx.set_xlabel('split')\n",
    "    bx.set_yticks(range(54))\n",
    "    bx.set_yticklabels('')\n",
    "\n",
    "    fig.colorbar(img, fraction=0.04)\n",
    "\n",
    "\n",
    "    ax.set_title(\"trainers\")\n",
    "    bx.set_title(\"genic_f1\")\n",
    "\n"
   ]
  },
  {
   "cell_type": "code",
   "execution_count": null,
   "metadata": {},
   "outputs": [],
   "source": [
    "mergy_plotty(key='gc', sort_by='gc_content')"
   ]
  },
  {
   "cell_type": "code",
   "execution_count": null,
   "metadata": {},
   "outputs": [],
   "source": [
    "mergy_plotty(key='length', sort_by='total_len')"
   ]
  },
  {
   "cell_type": "code",
   "execution_count": null,
   "metadata": {},
   "outputs": [],
   "source": [
    "mergy_plotty(key='phylo', sort_by='phylo_split')"
   ]
  },
  {
   "cell_type": "code",
   "execution_count": null,
   "metadata": {},
   "outputs": [],
   "source": [
    "mergy_plotty(key='random', sort_by='random_split')"
   ]
  },
  {
   "cell_type": "code",
   "execution_count": null,
   "metadata": {},
   "outputs": [],
   "source": [
    "mergy_plotty(key='random', sort_by='gc_content')"
   ]
  },
  {
   "cell_type": "code",
   "execution_count": null,
   "metadata": {},
   "outputs": [],
   "source": [
    "mergy_plotty(key='random', sort_by='total_len')"
   ]
  },
  {
   "cell_type": "code",
   "execution_count": null,
   "metadata": {},
   "outputs": [],
   "source": [
    "mergy_plotty(key='random', sort_by='phylo_split')"
   ]
  }
 ],
 "metadata": {
  "kernelspec": {
   "display_name": "Python 3",
   "language": "python",
   "name": "python3"
  },
  "language_info": {
   "codemirror_mode": {
    "name": "ipython",
    "version": 3
   },
   "file_extension": ".py",
   "mimetype": "text/x-python",
   "name": "python",
   "nbconvert_exporter": "python",
   "pygments_lexer": "ipython3",
   "version": "3.6.9"
  }
 },
 "nbformat": 4,
 "nbformat_minor": 2
}

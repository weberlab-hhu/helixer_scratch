{
 "cells": [
  {
   "cell_type": "code",
   "execution_count": null,
   "metadata": {},
   "outputs": [],
   "source": [
    "import matplotlib.pyplot as plt\n",
    "import numpy as np\n",
    "import pandas as pd\n",
    "import seaborn as sns\n",
    "import copy"
   ]
  },
  {
   "cell_type": "code",
   "execution_count": null,
   "metadata": {},
   "outputs": [],
   "source": [
    "pd.set_option('display.max_colwidth', 500)\n",
    "pd.set_option('display.max_columns', 7)"
   ]
  },
  {
   "cell_type": "code",
   "execution_count": null,
   "metadata": {},
   "outputs": [],
   "source": [
    "df_meta = pd.read_csv('metadata_plants.csv')"
   ]
  },
  {
   "cell_type": "code",
   "execution_count": null,
   "metadata": {},
   "outputs": [],
   "source": [
    "df_meta.head()\n",
    "# Alyrata  Csativus  Macuminata  Ppatens  Taestivum  Vcarteri\n",
    "# remove test genomes\n",
    "df_plants = df_meta[~df_meta['species'].isin(['Alyrata','Csativus','Macuminata','Ppatens',\n",
    "                                              'Taestivum','Vcarteri'])].reset_index(drop=True)\n",
    "\n"
   ]
  },
  {
   "cell_type": "code",
   "execution_count": null,
   "metadata": {},
   "outputs": [],
   "source": [
    "np.random.seed(11345)\n",
    "x = np.repeat(range(6), 9)\n",
    "np.random.shuffle(x)\n",
    "x"
   ]
  },
  {
   "cell_type": "code",
   "execution_count": null,
   "metadata": {},
   "outputs": [],
   "source": [
    "df_plants.loc[:,\"random_split\"] = x"
   ]
  },
  {
   "cell_type": "code",
   "execution_count": null,
   "metadata": {},
   "outputs": [],
   "source": [
    "df_plants.loc[:,\"length_split\"] = -1"
   ]
  },
  {
   "cell_type": "code",
   "execution_count": null,
   "metadata": {},
   "outputs": [],
   "source": [
    "df_plants.head()"
   ]
  },
  {
   "cell_type": "code",
   "execution_count": null,
   "metadata": {
    "scrolled": true
   },
   "outputs": [],
   "source": [
    "for i, split in zip(np.argsort(df_plants.loc[:, \"total_len\"]), np.repeat(range(6), 9)):\n",
    "    df_plants.loc[i,\"length_split\"] = split"
   ]
  },
  {
   "cell_type": "code",
   "execution_count": null,
   "metadata": {},
   "outputs": [],
   "source": [
    "df_plants.loc[:,\"gc_split\"] = -1"
   ]
  },
  {
   "cell_type": "code",
   "execution_count": null,
   "metadata": {},
   "outputs": [],
   "source": [
    "x2 = df_plants.loc[:,\"C\"] / (df_plants.loc[:,\"A\"] + df_plants.loc[:,\"C\"])"
   ]
  },
  {
   "cell_type": "code",
   "execution_count": null,
   "metadata": {},
   "outputs": [],
   "source": [
    "for i, split in zip(np.argsort(x2), np.repeat(range(6), 9)):\n",
    "    df_plants.loc[i,\"gc_split\"] = split"
   ]
  },
  {
   "cell_type": "code",
   "execution_count": null,
   "metadata": {},
   "outputs": [],
   "source": [
    "df_plants.loc[df_plants.loc[:, \"random_split\"] == 1, \"species\"]"
   ]
  },
  {
   "cell_type": "code",
   "execution_count": null,
   "metadata": {},
   "outputs": [],
   "source": [
    "df_plants.loc[df_plants.loc[:, \"length_split\"] == 1, \"species\"]"
   ]
  },
  {
   "cell_type": "code",
   "execution_count": null,
   "metadata": {},
   "outputs": [],
   "source": [
    "def mk_bash_denbi(outdir, species):\n",
    "    template = \"\"\"\n",
    "pfx=/mnt/share/ubuntu/data/plants/single_genomes/\n",
    "outdir={}\n",
    "\n",
    "mkdir -p $outdir\n",
    "python /mnt/share/ubuntu/repos/github/weberlab-hhu/helixer_scratch/data_scripts/merge-files.py \\\\\n",
    "        --input-files {} \\\\\n",
    "        --output-file $outdir/training_data.h5\n",
    "cd $outdir\n",
    "ln -s ../../eight_genomes_nosplit_phase/validation_data.h5\n",
    "cd ..\n",
    "\"\"\"\n",
    "    \n",
    "    one_path = \"$pfx/{}/test_data.h5\"\n",
    "    sp_paths = [one_path.format(sp) for sp in species]\n",
    "    return template.format(outdir, ' '.join(sp_paths))"
   ]
  },
  {
   "cell_type": "code",
   "execution_count": null,
   "metadata": {},
   "outputs": [],
   "source": [
    "print(mk_bash_denbi('gc3', df_plants.loc[df_plants.loc[:, \"gc_split\"] == 3, \"species\"]))"
   ]
  },
  {
   "cell_type": "code",
   "execution_count": null,
   "metadata": {},
   "outputs": [],
   "source": [
    "print(mk_bash_denbi('length5', df_plants.loc[df_plants.loc[:, \"length_split\"] == 5, \"species\"]))"
   ]
  },
  {
   "cell_type": "code",
   "execution_count": null,
   "metadata": {},
   "outputs": [],
   "source": [
    "df_plants.loc[:, ['species', 'random_split',\n",
    "       'length_split', 'gc_split']].to_csv('rabbit_splits.csv', index=False)\n"
   ]
  },
  {
   "cell_type": "code",
   "execution_count": null,
   "metadata": {},
   "outputs": [],
   "source": []
  }
 ],
 "metadata": {
  "kernelspec": {
   "display_name": "Python 3",
   "language": "python",
   "name": "python3"
  },
  "language_info": {
   "codemirror_mode": {
    "name": "ipython",
    "version": 3
   },
   "file_extension": ".py",
   "mimetype": "text/x-python",
   "name": "python",
   "nbconvert_exporter": "python",
   "pygments_lexer": "ipython3",
   "version": "3.6.9"
  }
 },
 "nbformat": 4,
 "nbformat_minor": 2
}
